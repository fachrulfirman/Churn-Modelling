{
  "nbformat": 4,
  "nbformat_minor": 0,
  "metadata": {
    "colab": {
      "name": "Rewang02v6.2.ipynb",
      "provenance": [],
      "collapsed_sections": [
        "VOiUnGJH1_uU",
        "Vur3bOSt2EIT",
        "nylqBsCh7CUx",
        "W2eidU_R7HRQ",
        "XSTfUrKFgAQU",
        "G4y8h_6pggGQ",
        "UKxm5alPhMsr",
        "LmTw0XWexWuO",
        "WFTqY0_ar02F",
        "nyukNbTVxndh",
        "FIRp4X_87SxL",
        "en9d6aIY7Mpl",
        "HYd9DglgDfuP",
        "90LDzzntFa7h",
        "PL-7mkQ04cAO",
        "0XFiO5by-xZ4",
        "Jk9ihr1X-4KL",
        "LyACq03e-7qf",
        "o2dQMnez_QXj",
        "Dg1lSGIE_Wx4",
        "WZ5loj9Z_a-d",
        "L81m8Fo3980g",
        "gWnuVa8t-GUm",
        "Z6aJBiTT-K6h",
        "GeXF9aoi-SGR",
        "bo3jjgxPgNrI",
        "4nc53JnaK8jV",
        "q4TkPMMVq2xt",
        "05jQn9MKrCqw",
        "D-q6_rRhDCIL",
        "Zl2ghABqJxGl",
        "zzNjH96XNrV2",
        "qZIIU8n-OvvZ",
        "5P5QlqMOZgGY",
        "Qu2NXJgRxTRu",
        "kf1kgYC-LLbC",
        "j3H8EAx3NUvn",
        "o9lkpgI8ZXsU",
        "zMYkvNJMiW05",
        "MtlU5jxf__Tp"
      ],
      "toc_visible": true
    },
    "kernelspec": {
      "name": "python3",
      "display_name": "Python 3"
    },
    "language_info": {
      "name": "python"
    }
  },
  "cells": [
    {
      "cell_type": "code",
      "metadata": {
        "id": "Ri2O1wfG6dlJ"
      },
      "source": [
        "# Import libraries\n",
        "import pandas as pd, seaborn as sns, matplotlib.pyplot as plt, numpy as np\n",
        "from sklearn.model_selection import train_test_split\n",
        "from sklearn.preprocessing import StandardScaler\n",
        "from collections import Counter\n",
        "from sklearn.metrics import confusion_matrix\n",
        "from sklearn.neighbors import KNeighborsClassifier\n",
        "from sklearn.svm import SVC\n",
        "from sklearn.tree import DecisionTreeClassifier\n",
        "from sklearn.ensemble import RandomForestClassifier, BaggingClassifier, AdaBoostClassifier\n",
        "from sklearn.model_selection import RandomizedSearchCV"
      ],
      "execution_count": null,
      "outputs": []
    },
    {
      "cell_type": "markdown",
      "metadata": {
        "id": "VOiUnGJH1_uU"
      },
      "source": [
        "# The Dataset"
      ]
    },
    {
      "cell_type": "markdown",
      "metadata": {
        "id": "t8ue1ITZ2V6u"
      },
      "source": [
        "Dataset: https://www.kaggle.com/shubh0799/churn-modelling"
      ]
    },
    {
      "cell_type": "code",
      "metadata": {
        "id": "OL_eS39U9TFZ",
        "colab": {
          "base_uri": "https://localhost:8080/",
          "height": 443
        },
        "outputId": "c02707d2-933e-4ccb-bcad-351581b5bded"
      },
      "source": [
        "# Read csv file into dataframe\n",
        "df = pd.read_csv('/content/Churn_Modelling.csv')\n",
        "df"
      ],
      "execution_count": null,
      "outputs": [
        {
          "output_type": "execute_result",
          "data": {
            "text/html": [
              "<div>\n",
              "<style scoped>\n",
              "    .dataframe tbody tr th:only-of-type {\n",
              "        vertical-align: middle;\n",
              "    }\n",
              "\n",
              "    .dataframe tbody tr th {\n",
              "        vertical-align: top;\n",
              "    }\n",
              "\n",
              "    .dataframe thead th {\n",
              "        text-align: right;\n",
              "    }\n",
              "</style>\n",
              "<table border=\"1\" class=\"dataframe\">\n",
              "  <thead>\n",
              "    <tr style=\"text-align: right;\">\n",
              "      <th></th>\n",
              "      <th>RowNumber</th>\n",
              "      <th>CustomerId</th>\n",
              "      <th>Surname</th>\n",
              "      <th>CreditScore</th>\n",
              "      <th>Geography</th>\n",
              "      <th>Gender</th>\n",
              "      <th>Age</th>\n",
              "      <th>Tenure</th>\n",
              "      <th>Balance</th>\n",
              "      <th>NumOfProducts</th>\n",
              "      <th>HasCrCard</th>\n",
              "      <th>IsActiveMember</th>\n",
              "      <th>EstimatedSalary</th>\n",
              "      <th>Exited</th>\n",
              "    </tr>\n",
              "  </thead>\n",
              "  <tbody>\n",
              "    <tr>\n",
              "      <th>0</th>\n",
              "      <td>1</td>\n",
              "      <td>15634602</td>\n",
              "      <td>Hargrave</td>\n",
              "      <td>619</td>\n",
              "      <td>France</td>\n",
              "      <td>Female</td>\n",
              "      <td>42</td>\n",
              "      <td>2</td>\n",
              "      <td>0.00</td>\n",
              "      <td>1</td>\n",
              "      <td>1</td>\n",
              "      <td>1</td>\n",
              "      <td>101348.88</td>\n",
              "      <td>1</td>\n",
              "    </tr>\n",
              "    <tr>\n",
              "      <th>1</th>\n",
              "      <td>2</td>\n",
              "      <td>15647311</td>\n",
              "      <td>Hill</td>\n",
              "      <td>608</td>\n",
              "      <td>Spain</td>\n",
              "      <td>Female</td>\n",
              "      <td>41</td>\n",
              "      <td>1</td>\n",
              "      <td>83807.86</td>\n",
              "      <td>1</td>\n",
              "      <td>0</td>\n",
              "      <td>1</td>\n",
              "      <td>112542.58</td>\n",
              "      <td>0</td>\n",
              "    </tr>\n",
              "    <tr>\n",
              "      <th>2</th>\n",
              "      <td>3</td>\n",
              "      <td>15619304</td>\n",
              "      <td>Onio</td>\n",
              "      <td>502</td>\n",
              "      <td>France</td>\n",
              "      <td>Female</td>\n",
              "      <td>42</td>\n",
              "      <td>8</td>\n",
              "      <td>159660.80</td>\n",
              "      <td>3</td>\n",
              "      <td>1</td>\n",
              "      <td>0</td>\n",
              "      <td>113931.57</td>\n",
              "      <td>1</td>\n",
              "    </tr>\n",
              "    <tr>\n",
              "      <th>3</th>\n",
              "      <td>4</td>\n",
              "      <td>15701354</td>\n",
              "      <td>Boni</td>\n",
              "      <td>699</td>\n",
              "      <td>France</td>\n",
              "      <td>Female</td>\n",
              "      <td>39</td>\n",
              "      <td>1</td>\n",
              "      <td>0.00</td>\n",
              "      <td>2</td>\n",
              "      <td>0</td>\n",
              "      <td>0</td>\n",
              "      <td>93826.63</td>\n",
              "      <td>0</td>\n",
              "    </tr>\n",
              "    <tr>\n",
              "      <th>4</th>\n",
              "      <td>5</td>\n",
              "      <td>15737888</td>\n",
              "      <td>Mitchell</td>\n",
              "      <td>850</td>\n",
              "      <td>Spain</td>\n",
              "      <td>Female</td>\n",
              "      <td>43</td>\n",
              "      <td>2</td>\n",
              "      <td>125510.82</td>\n",
              "      <td>1</td>\n",
              "      <td>1</td>\n",
              "      <td>1</td>\n",
              "      <td>79084.10</td>\n",
              "      <td>0</td>\n",
              "    </tr>\n",
              "    <tr>\n",
              "      <th>...</th>\n",
              "      <td>...</td>\n",
              "      <td>...</td>\n",
              "      <td>...</td>\n",
              "      <td>...</td>\n",
              "      <td>...</td>\n",
              "      <td>...</td>\n",
              "      <td>...</td>\n",
              "      <td>...</td>\n",
              "      <td>...</td>\n",
              "      <td>...</td>\n",
              "      <td>...</td>\n",
              "      <td>...</td>\n",
              "      <td>...</td>\n",
              "      <td>...</td>\n",
              "    </tr>\n",
              "    <tr>\n",
              "      <th>9995</th>\n",
              "      <td>9996</td>\n",
              "      <td>15606229</td>\n",
              "      <td>Obijiaku</td>\n",
              "      <td>771</td>\n",
              "      <td>France</td>\n",
              "      <td>Male</td>\n",
              "      <td>39</td>\n",
              "      <td>5</td>\n",
              "      <td>0.00</td>\n",
              "      <td>2</td>\n",
              "      <td>1</td>\n",
              "      <td>0</td>\n",
              "      <td>96270.64</td>\n",
              "      <td>0</td>\n",
              "    </tr>\n",
              "    <tr>\n",
              "      <th>9996</th>\n",
              "      <td>9997</td>\n",
              "      <td>15569892</td>\n",
              "      <td>Johnstone</td>\n",
              "      <td>516</td>\n",
              "      <td>France</td>\n",
              "      <td>Male</td>\n",
              "      <td>35</td>\n",
              "      <td>10</td>\n",
              "      <td>57369.61</td>\n",
              "      <td>1</td>\n",
              "      <td>1</td>\n",
              "      <td>1</td>\n",
              "      <td>101699.77</td>\n",
              "      <td>0</td>\n",
              "    </tr>\n",
              "    <tr>\n",
              "      <th>9997</th>\n",
              "      <td>9998</td>\n",
              "      <td>15584532</td>\n",
              "      <td>Liu</td>\n",
              "      <td>709</td>\n",
              "      <td>France</td>\n",
              "      <td>Female</td>\n",
              "      <td>36</td>\n",
              "      <td>7</td>\n",
              "      <td>0.00</td>\n",
              "      <td>1</td>\n",
              "      <td>0</td>\n",
              "      <td>1</td>\n",
              "      <td>42085.58</td>\n",
              "      <td>1</td>\n",
              "    </tr>\n",
              "    <tr>\n",
              "      <th>9998</th>\n",
              "      <td>9999</td>\n",
              "      <td>15682355</td>\n",
              "      <td>Sabbatini</td>\n",
              "      <td>772</td>\n",
              "      <td>Germany</td>\n",
              "      <td>Male</td>\n",
              "      <td>42</td>\n",
              "      <td>3</td>\n",
              "      <td>75075.31</td>\n",
              "      <td>2</td>\n",
              "      <td>1</td>\n",
              "      <td>0</td>\n",
              "      <td>92888.52</td>\n",
              "      <td>1</td>\n",
              "    </tr>\n",
              "    <tr>\n",
              "      <th>9999</th>\n",
              "      <td>10000</td>\n",
              "      <td>15628319</td>\n",
              "      <td>Walker</td>\n",
              "      <td>792</td>\n",
              "      <td>France</td>\n",
              "      <td>Female</td>\n",
              "      <td>28</td>\n",
              "      <td>4</td>\n",
              "      <td>130142.79</td>\n",
              "      <td>1</td>\n",
              "      <td>1</td>\n",
              "      <td>0</td>\n",
              "      <td>38190.78</td>\n",
              "      <td>0</td>\n",
              "    </tr>\n",
              "  </tbody>\n",
              "</table>\n",
              "<p>10000 rows × 14 columns</p>\n",
              "</div>"
            ],
            "text/plain": [
              "      RowNumber  CustomerId    Surname  ...  IsActiveMember EstimatedSalary Exited\n",
              "0             1    15634602   Hargrave  ...               1       101348.88      1\n",
              "1             2    15647311       Hill  ...               1       112542.58      0\n",
              "2             3    15619304       Onio  ...               0       113931.57      1\n",
              "3             4    15701354       Boni  ...               0        93826.63      0\n",
              "4             5    15737888   Mitchell  ...               1        79084.10      0\n",
              "...         ...         ...        ...  ...             ...             ...    ...\n",
              "9995       9996    15606229   Obijiaku  ...               0        96270.64      0\n",
              "9996       9997    15569892  Johnstone  ...               1       101699.77      0\n",
              "9997       9998    15584532        Liu  ...               1        42085.58      1\n",
              "9998       9999    15682355  Sabbatini  ...               0        92888.52      1\n",
              "9999      10000    15628319     Walker  ...               0        38190.78      0\n",
              "\n",
              "[10000 rows x 14 columns]"
            ]
          },
          "metadata": {},
          "execution_count": 2
        }
      ]
    },
    {
      "cell_type": "code",
      "metadata": {
        "id": "69aU13cA2hR0",
        "colab": {
          "base_uri": "https://localhost:8080/"
        },
        "outputId": "4b1e79a3-d37f-49b5-c637-542419e49d44"
      },
      "source": [
        "# Concise summary of dataframe\n",
        "df.info()"
      ],
      "execution_count": null,
      "outputs": [
        {
          "output_type": "stream",
          "name": "stdout",
          "text": [
            "<class 'pandas.core.frame.DataFrame'>\n",
            "RangeIndex: 10000 entries, 0 to 9999\n",
            "Data columns (total 14 columns):\n",
            " #   Column           Non-Null Count  Dtype  \n",
            "---  ------           --------------  -----  \n",
            " 0   RowNumber        10000 non-null  int64  \n",
            " 1   CustomerId       10000 non-null  int64  \n",
            " 2   Surname          10000 non-null  object \n",
            " 3   CreditScore      10000 non-null  int64  \n",
            " 4   Geography        10000 non-null  object \n",
            " 5   Gender           10000 non-null  object \n",
            " 6   Age              10000 non-null  int64  \n",
            " 7   Tenure           10000 non-null  int64  \n",
            " 8   Balance          10000 non-null  float64\n",
            " 9   NumOfProducts    10000 non-null  int64  \n",
            " 10  HasCrCard        10000 non-null  int64  \n",
            " 11  IsActiveMember   10000 non-null  int64  \n",
            " 12  EstimatedSalary  10000 non-null  float64\n",
            " 13  Exited           10000 non-null  int64  \n",
            "dtypes: float64(2), int64(9), object(3)\n",
            "memory usage: 1.1+ MB\n"
          ]
        }
      ]
    },
    {
      "cell_type": "code",
      "metadata": {
        "id": "rrwruNW62h_8",
        "colab": {
          "base_uri": "https://localhost:8080/",
          "height": 320
        },
        "outputId": "5c8d8005-6223-43b5-e8fe-7f2a31d05dac"
      },
      "source": [
        "# Generate descriptive statistics\n",
        "df.describe()"
      ],
      "execution_count": null,
      "outputs": [
        {
          "output_type": "execute_result",
          "data": {
            "text/html": [
              "<div>\n",
              "<style scoped>\n",
              "    .dataframe tbody tr th:only-of-type {\n",
              "        vertical-align: middle;\n",
              "    }\n",
              "\n",
              "    .dataframe tbody tr th {\n",
              "        vertical-align: top;\n",
              "    }\n",
              "\n",
              "    .dataframe thead th {\n",
              "        text-align: right;\n",
              "    }\n",
              "</style>\n",
              "<table border=\"1\" class=\"dataframe\">\n",
              "  <thead>\n",
              "    <tr style=\"text-align: right;\">\n",
              "      <th></th>\n",
              "      <th>RowNumber</th>\n",
              "      <th>CustomerId</th>\n",
              "      <th>CreditScore</th>\n",
              "      <th>Age</th>\n",
              "      <th>Tenure</th>\n",
              "      <th>Balance</th>\n",
              "      <th>NumOfProducts</th>\n",
              "      <th>HasCrCard</th>\n",
              "      <th>IsActiveMember</th>\n",
              "      <th>EstimatedSalary</th>\n",
              "      <th>Exited</th>\n",
              "    </tr>\n",
              "  </thead>\n",
              "  <tbody>\n",
              "    <tr>\n",
              "      <th>count</th>\n",
              "      <td>10000.00000</td>\n",
              "      <td>1.000000e+04</td>\n",
              "      <td>10000.000000</td>\n",
              "      <td>10000.000000</td>\n",
              "      <td>10000.000000</td>\n",
              "      <td>10000.000000</td>\n",
              "      <td>10000.000000</td>\n",
              "      <td>10000.00000</td>\n",
              "      <td>10000.000000</td>\n",
              "      <td>10000.000000</td>\n",
              "      <td>10000.000000</td>\n",
              "    </tr>\n",
              "    <tr>\n",
              "      <th>mean</th>\n",
              "      <td>5000.50000</td>\n",
              "      <td>1.569094e+07</td>\n",
              "      <td>650.528800</td>\n",
              "      <td>38.921800</td>\n",
              "      <td>5.012800</td>\n",
              "      <td>76485.889288</td>\n",
              "      <td>1.530200</td>\n",
              "      <td>0.70550</td>\n",
              "      <td>0.515100</td>\n",
              "      <td>100090.239881</td>\n",
              "      <td>0.203700</td>\n",
              "    </tr>\n",
              "    <tr>\n",
              "      <th>std</th>\n",
              "      <td>2886.89568</td>\n",
              "      <td>7.193619e+04</td>\n",
              "      <td>96.653299</td>\n",
              "      <td>10.487806</td>\n",
              "      <td>2.892174</td>\n",
              "      <td>62397.405202</td>\n",
              "      <td>0.581654</td>\n",
              "      <td>0.45584</td>\n",
              "      <td>0.499797</td>\n",
              "      <td>57510.492818</td>\n",
              "      <td>0.402769</td>\n",
              "    </tr>\n",
              "    <tr>\n",
              "      <th>min</th>\n",
              "      <td>1.00000</td>\n",
              "      <td>1.556570e+07</td>\n",
              "      <td>350.000000</td>\n",
              "      <td>18.000000</td>\n",
              "      <td>0.000000</td>\n",
              "      <td>0.000000</td>\n",
              "      <td>1.000000</td>\n",
              "      <td>0.00000</td>\n",
              "      <td>0.000000</td>\n",
              "      <td>11.580000</td>\n",
              "      <td>0.000000</td>\n",
              "    </tr>\n",
              "    <tr>\n",
              "      <th>25%</th>\n",
              "      <td>2500.75000</td>\n",
              "      <td>1.562853e+07</td>\n",
              "      <td>584.000000</td>\n",
              "      <td>32.000000</td>\n",
              "      <td>3.000000</td>\n",
              "      <td>0.000000</td>\n",
              "      <td>1.000000</td>\n",
              "      <td>0.00000</td>\n",
              "      <td>0.000000</td>\n",
              "      <td>51002.110000</td>\n",
              "      <td>0.000000</td>\n",
              "    </tr>\n",
              "    <tr>\n",
              "      <th>50%</th>\n",
              "      <td>5000.50000</td>\n",
              "      <td>1.569074e+07</td>\n",
              "      <td>652.000000</td>\n",
              "      <td>37.000000</td>\n",
              "      <td>5.000000</td>\n",
              "      <td>97198.540000</td>\n",
              "      <td>1.000000</td>\n",
              "      <td>1.00000</td>\n",
              "      <td>1.000000</td>\n",
              "      <td>100193.915000</td>\n",
              "      <td>0.000000</td>\n",
              "    </tr>\n",
              "    <tr>\n",
              "      <th>75%</th>\n",
              "      <td>7500.25000</td>\n",
              "      <td>1.575323e+07</td>\n",
              "      <td>718.000000</td>\n",
              "      <td>44.000000</td>\n",
              "      <td>7.000000</td>\n",
              "      <td>127644.240000</td>\n",
              "      <td>2.000000</td>\n",
              "      <td>1.00000</td>\n",
              "      <td>1.000000</td>\n",
              "      <td>149388.247500</td>\n",
              "      <td>0.000000</td>\n",
              "    </tr>\n",
              "    <tr>\n",
              "      <th>max</th>\n",
              "      <td>10000.00000</td>\n",
              "      <td>1.581569e+07</td>\n",
              "      <td>850.000000</td>\n",
              "      <td>92.000000</td>\n",
              "      <td>10.000000</td>\n",
              "      <td>250898.090000</td>\n",
              "      <td>4.000000</td>\n",
              "      <td>1.00000</td>\n",
              "      <td>1.000000</td>\n",
              "      <td>199992.480000</td>\n",
              "      <td>1.000000</td>\n",
              "    </tr>\n",
              "  </tbody>\n",
              "</table>\n",
              "</div>"
            ],
            "text/plain": [
              "         RowNumber    CustomerId  ...  EstimatedSalary        Exited\n",
              "count  10000.00000  1.000000e+04  ...     10000.000000  10000.000000\n",
              "mean    5000.50000  1.569094e+07  ...    100090.239881      0.203700\n",
              "std     2886.89568  7.193619e+04  ...     57510.492818      0.402769\n",
              "min        1.00000  1.556570e+07  ...        11.580000      0.000000\n",
              "25%     2500.75000  1.562853e+07  ...     51002.110000      0.000000\n",
              "50%     5000.50000  1.569074e+07  ...    100193.915000      0.000000\n",
              "75%     7500.25000  1.575323e+07  ...    149388.247500      0.000000\n",
              "max    10000.00000  1.581569e+07  ...    199992.480000      1.000000\n",
              "\n",
              "[8 rows x 11 columns]"
            ]
          },
          "metadata": {},
          "execution_count": 4
        }
      ]
    },
    {
      "cell_type": "markdown",
      "metadata": {
        "id": "Vur3bOSt2EIT"
      },
      "source": [
        "# Exploratory and Visualization"
      ]
    },
    {
      "cell_type": "code",
      "metadata": {
        "id": "la35nYwY2LAE"
      },
      "source": [
        "# Set the plot style\n",
        "sns.set_style('whitegrid')"
      ],
      "execution_count": null,
      "outputs": []
    },
    {
      "cell_type": "markdown",
      "metadata": {
        "id": "nylqBsCh7CUx"
      },
      "source": [
        "## Univariate Analysis"
      ]
    },
    {
      "cell_type": "markdown",
      "metadata": {
        "id": "W2eidU_R7HRQ"
      },
      "source": [
        "### CreditScore"
      ]
    },
    {
      "cell_type": "code",
      "metadata": {
        "id": "Jlgv19h07NY5",
        "colab": {
          "base_uri": "https://localhost:8080/"
        },
        "outputId": "33893eed-0215-4406-ca9c-a7b7d6851c58"
      },
      "source": [
        "df[['CreditScore']].describe()"
      ],
      "execution_count": null,
      "outputs": [
        {
          "output_type": "execute_result",
          "data": {
            "text/html": [
              "<div>\n",
              "<style scoped>\n",
              "    .dataframe tbody tr th:only-of-type {\n",
              "        vertical-align: middle;\n",
              "    }\n",
              "\n",
              "    .dataframe tbody tr th {\n",
              "        vertical-align: top;\n",
              "    }\n",
              "\n",
              "    .dataframe thead th {\n",
              "        text-align: right;\n",
              "    }\n",
              "</style>\n",
              "<table border=\"1\" class=\"dataframe\">\n",
              "  <thead>\n",
              "    <tr style=\"text-align: right;\">\n",
              "      <th></th>\n",
              "      <th>CreditScore</th>\n",
              "    </tr>\n",
              "  </thead>\n",
              "  <tbody>\n",
              "    <tr>\n",
              "      <th>count</th>\n",
              "      <td>10000.000000</td>\n",
              "    </tr>\n",
              "    <tr>\n",
              "      <th>mean</th>\n",
              "      <td>650.528800</td>\n",
              "    </tr>\n",
              "    <tr>\n",
              "      <th>std</th>\n",
              "      <td>96.653299</td>\n",
              "    </tr>\n",
              "    <tr>\n",
              "      <th>min</th>\n",
              "      <td>350.000000</td>\n",
              "    </tr>\n",
              "    <tr>\n",
              "      <th>25%</th>\n",
              "      <td>584.000000</td>\n",
              "    </tr>\n",
              "    <tr>\n",
              "      <th>50%</th>\n",
              "      <td>652.000000</td>\n",
              "    </tr>\n",
              "    <tr>\n",
              "      <th>75%</th>\n",
              "      <td>718.000000</td>\n",
              "    </tr>\n",
              "    <tr>\n",
              "      <th>max</th>\n",
              "      <td>850.000000</td>\n",
              "    </tr>\n",
              "  </tbody>\n",
              "</table>\n",
              "</div>"
            ],
            "text/plain": [
              "        CreditScore\n",
              "count  10000.000000\n",
              "mean     650.528800\n",
              "std       96.653299\n",
              "min      350.000000\n",
              "25%      584.000000\n",
              "50%      652.000000\n",
              "75%      718.000000\n",
              "max      850.000000"
            ]
          },
          "metadata": {},
          "execution_count": 84
        }
      ]
    },
    {
      "cell_type": "code",
      "metadata": {
        "id": "5RDWDd877wfd",
        "colab": {
          "base_uri": "https://localhost:8080/"
        },
        "outputId": "c71daf25-2c32-440c-c16e-d608060fc01f"
      },
      "source": [
        "df[['CreditScore']].mode().rename(index={0: 'Mode'})"
      ],
      "execution_count": null,
      "outputs": [
        {
          "output_type": "execute_result",
          "data": {
            "text/html": [
              "<div>\n",
              "<style scoped>\n",
              "    .dataframe tbody tr th:only-of-type {\n",
              "        vertical-align: middle;\n",
              "    }\n",
              "\n",
              "    .dataframe tbody tr th {\n",
              "        vertical-align: top;\n",
              "    }\n",
              "\n",
              "    .dataframe thead th {\n",
              "        text-align: right;\n",
              "    }\n",
              "</style>\n",
              "<table border=\"1\" class=\"dataframe\">\n",
              "  <thead>\n",
              "    <tr style=\"text-align: right;\">\n",
              "      <th></th>\n",
              "      <th>CreditScore</th>\n",
              "    </tr>\n",
              "  </thead>\n",
              "  <tbody>\n",
              "    <tr>\n",
              "      <th>Mode</th>\n",
              "      <td>850</td>\n",
              "    </tr>\n",
              "  </tbody>\n",
              "</table>\n",
              "</div>"
            ],
            "text/plain": [
              "      CreditScore\n",
              "Mode          850"
            ]
          },
          "metadata": {},
          "execution_count": 85
        }
      ]
    },
    {
      "cell_type": "code",
      "metadata": {
        "id": "vIQj3qKI_Xnt",
        "colab": {
          "base_uri": "https://localhost:8080/"
        },
        "outputId": "52642f68-2da7-4cfe-fa72-9ebbec10b75d"
      },
      "source": [
        "sns.histplot(df['CreditScore'],bins=100,kde='True');"
      ],
      "execution_count": null,
      "outputs": [
        {
          "output_type": "display_data",
          "data": {
            "image/png": "[encoded data removed]",
            "text/plain": [
              "<Figure size 432x288 with 1 Axes>"
            ]
          },
          "metadata": {}
        }
      ]
    },
    {
      "cell_type": "code",
      "metadata": {
        "id": "0W-PD5g-L_Ge",
        "colab": {
          "base_uri": "https://localhost:8080/"
        },
        "outputId": "30a8fa2a-ce60-48bb-84f4-37e0f0f36545"
      },
      "source": [
        "# Menghitung rentang antar kuartil serta batas-batas pencilan\n",
        "Q1 = df['CreditScore'].quantile(q = 0.25)\n",
        "Q3 = df['CreditScore'].quantile(q = 0.75)\n",
        "IQR = Q3 - Q1\n",
        "UIF = Q3 + 1.5 * IQR\n",
        "LIF = Q1 - 1.5 * IQR\n",
        "UOF = Q3 + 3 * IQR\n",
        "LOF = Q1 - 3 * IQR\n",
        "print('Rentang antar kuartil: ', IQR)\n",
        "print('Batas luar atas: ', UOF)\n",
        "print('Batas dalam atas: ', UIF)\n",
        "print('Batas dalam bawah: ', LIF)\n",
        "print('Batas luar bawah: ', LOF)"
      ],
      "execution_count": null,
      "outputs": [
        {
          "output_type": "stream",
          "name": "stdout",
          "text": [
            "Rentang antar kuartil:  134.0\n",
            "Batas luar atas:  1120.0\n",
            "Batas dalam atas:  919.0\n",
            "Batas dalam bawah:  383.0\n",
            "Batas luar bawah:  182.0\n"
          ]
        }
      ]
    },
    {
      "cell_type": "code",
      "metadata": {
        "id": "uiSSdz6Ntgid",
        "colab": {
          "base_uri": "https://localhost:8080/"
        },
        "outputId": "ac63f7dd-41fa-4a40-b343-57327224d791"
      },
      "source": [
        "# Mengidentifikasi pencilan di atas batas luar atas\n",
        "print('Di atas batas luar atas:')\n",
        "df['CreditScore'][df['CreditScore'] > UOF]"
      ],
      "execution_count": null,
      "outputs": [
        {
          "output_type": "stream",
          "name": "stdout",
          "text": [
            "Di atas batas luar atas:\n"
          ]
        },
        {
          "output_type": "execute_result",
          "data": {
            "text/plain": [
              "Series([], Name: CreditScore, dtype: int64)"
            ]
          },
          "metadata": {},
          "execution_count": 88
        }
      ]
    },
    {
      "cell_type": "code",
      "metadata": {
        "id": "JqpSzwgZOHXe",
        "colab": {
          "base_uri": "https://localhost:8080/"
        },
        "outputId": "d84d3aad-24c7-4fee-c1ce-f57c92886d1d"
      },
      "source": [
        "# Mengidentifikasi pencilan di atas batas dalam atas\n",
        "print('Di atas batas dalam atas:')\n",
        "df['CreditScore'][df['CreditScore'] > UIF]"
      ],
      "execution_count": null,
      "outputs": [
        {
          "output_type": "stream",
          "name": "stdout",
          "text": [
            "Di atas batas dalam atas:\n"
          ]
        },
        {
          "output_type": "execute_result",
          "data": {
            "text/plain": [
              "Series([], Name: CreditScore, dtype: int64)"
            ]
          },
          "metadata": {},
          "execution_count": 89
        }
      ]
    },
    {
      "cell_type": "code",
      "metadata": {
        "id": "dPtsxZeHQPMa",
        "colab": {
          "base_uri": "https://localhost:8080/"
        },
        "outputId": "35420080-7bfd-4675-a8c5-bc949daaafbd"
      },
      "source": [
        "# Mengidentifikasi pencilan di bawah batas dalam bawah\n",
        "print('Di bawah batas dalam bawah:')\n",
        "df['CreditScore'][df['CreditScore'] < LIF]"
      ],
      "execution_count": null,
      "outputs": [
        {
          "output_type": "stream",
          "name": "stdout",
          "text": [
            "Di bawah batas dalam bawah:\n"
          ]
        },
        {
          "output_type": "execute_result",
          "data": {
            "text/plain": [
              "7       376\n",
              "942     376\n",
              "1193    363\n",
              "1405    359\n",
              "1631    350\n",
              "1838    350\n",
              "1962    358\n",
              "2473    351\n",
              "2579    365\n",
              "8154    367\n",
              "8723    350\n",
              "8762    350\n",
              "9210    382\n",
              "9356    373\n",
              "9624    350\n",
              "Name: CreditScore, dtype: int64"
            ]
          },
          "metadata": {},
          "execution_count": 90
        }
      ]
    },
    {
      "cell_type": "code",
      "metadata": {
        "id": "1VifrPJHQUD5",
        "colab": {
          "base_uri": "https://localhost:8080/"
        },
        "outputId": "c25d7d04-a1c1-4886-e95c-f5f2fd4d7212"
      },
      "source": [
        "# Mengidentifikasi pencilan di bawah batas luar bawah\n",
        "print('Di bawah batas luar bawah:')\n",
        "df['CreditScore'][df['CreditScore'] < LOF]"
      ],
      "execution_count": null,
      "outputs": [
        {
          "output_type": "stream",
          "name": "stdout",
          "text": [
            "Di bawah batas luar bawah:\n"
          ]
        },
        {
          "output_type": "execute_result",
          "data": {
            "text/plain": [
              "Series([], Name: CreditScore, dtype: int64)"
            ]
          },
          "metadata": {},
          "execution_count": 91
        }
      ]
    },
    {
      "cell_type": "code",
      "metadata": {
        "id": "2wJzksYWcfrd",
        "colab": {
          "base_uri": "https://localhost:8080/"
        },
        "outputId": "7715085f-e56a-4cf5-fc61-bc6964e0c85f"
      },
      "source": [
        "sns.boxplot(x=df['CreditScore']);"
      ],
      "execution_count": null,
      "outputs": [
        {
          "output_type": "display_data",
          "data": {
            "image/png": "[encoded data removed]",
            "text/plain": [
              "<Figure size 432x288 with 1 Axes>"
            ]
          },
          "metadata": {}
        }
      ]
    },
    {
      "cell_type": "markdown",
      "metadata": {
        "id": "XSTfUrKFgAQU"
      },
      "source": [
        "### Geography"
      ]
    },
    {
      "cell_type": "code",
      "metadata": {
        "id": "ktvXI8HBgKe7",
        "colab": {
          "base_uri": "https://localhost:8080/"
        },
        "outputId": "4e869af6-afa0-4644-8349-7d53c5639111"
      },
      "source": [
        "df['Geography'].value_counts().rename_axis('Geography').to_frame('Count').sort_values(by='Geography')"
      ],
      "execution_count": null,
      "outputs": [
        {
          "output_type": "execute_result",
          "data": {
            "text/html": [
              "<div>\n",
              "<style scoped>\n",
              "    .dataframe tbody tr th:only-of-type {\n",
              "        vertical-align: middle;\n",
              "    }\n",
              "\n",
              "    .dataframe tbody tr th {\n",
              "        vertical-align: top;\n",
              "    }\n",
              "\n",
              "    .dataframe thead th {\n",
              "        text-align: right;\n",
              "    }\n",
              "</style>\n",
              "<table border=\"1\" class=\"dataframe\">\n",
              "  <thead>\n",
              "    <tr style=\"text-align: right;\">\n",
              "      <th></th>\n",
              "      <th>Count</th>\n",
              "    </tr>\n",
              "    <tr>\n",
              "      <th>Geography</th>\n",
              "      <th></th>\n",
              "    </tr>\n",
              "  </thead>\n",
              "  <tbody>\n",
              "    <tr>\n",
              "      <th>France</th>\n",
              "      <td>5014</td>\n",
              "    </tr>\n",
              "    <tr>\n",
              "      <th>Germany</th>\n",
              "      <td>2509</td>\n",
              "    </tr>\n",
              "    <tr>\n",
              "      <th>Spain</th>\n",
              "      <td>2477</td>\n",
              "    </tr>\n",
              "  </tbody>\n",
              "</table>\n",
              "</div>"
            ],
            "text/plain": [
              "           Count\n",
              "Geography       \n",
              "France      5014\n",
              "Germany     2509\n",
              "Spain       2477"
            ]
          },
          "metadata": {},
          "execution_count": 93
        }
      ]
    },
    {
      "cell_type": "code",
      "metadata": {
        "id": "gWYiJq70gSmk",
        "colab": {
          "base_uri": "https://localhost:8080/"
        },
        "outputId": "9a9e8509-0c73-40df-b714-fe43d86284b7"
      },
      "source": [
        "df['Geography'].value_counts().plot.pie(explode=[0,0,0.1],labels=['France','Germany','Spain'],autopct='%.2f%%',shadow=True,figsize=(5,5));"
      ],
      "execution_count": null,
      "outputs": [
        {
          "output_type": "display_data",
          "data": {
            "image/png": "[encoded data removed]",
            "text/plain": [
              "<Figure size 360x360 with 1 Axes>"
            ]
          },
          "metadata": {}
        }
      ]
    },
    {
      "cell_type": "markdown",
      "metadata": {
        "id": "G4y8h_6pggGQ"
      },
      "source": [
        "### Gender"
      ]
    },
    {
      "cell_type": "code",
      "metadata": {
        "id": "rrxfMGICgmgf",
        "colab": {
          "base_uri": "https://localhost:8080/"
        },
        "outputId": "f732d4d0-a6a8-4c3d-fab3-624d77eb9503"
      },
      "source": [
        "df['Gender'].value_counts().rename_axis('Gender').to_frame('Count').sort_values(by='Gender')"
      ],
      "execution_count": null,
      "outputs": [
        {
          "output_type": "execute_result",
          "data": {
            "text/html": [
              "<div>\n",
              "<style scoped>\n",
              "    .dataframe tbody tr th:only-of-type {\n",
              "        vertical-align: middle;\n",
              "    }\n",
              "\n",
              "    .dataframe tbody tr th {\n",
              "        vertical-align: top;\n",
              "    }\n",
              "\n",
              "    .dataframe thead th {\n",
              "        text-align: right;\n",
              "    }\n",
              "</style>\n",
              "<table border=\"1\" class=\"dataframe\">\n",
              "  <thead>\n",
              "    <tr style=\"text-align: right;\">\n",
              "      <th></th>\n",
              "      <th>Count</th>\n",
              "    </tr>\n",
              "    <tr>\n",
              "      <th>Gender</th>\n",
              "      <th></th>\n",
              "    </tr>\n",
              "  </thead>\n",
              "  <tbody>\n",
              "    <tr>\n",
              "      <th>Female</th>\n",
              "      <td>4543</td>\n",
              "    </tr>\n",
              "    <tr>\n",
              "      <th>Male</th>\n",
              "      <td>5457</td>\n",
              "    </tr>\n",
              "  </tbody>\n",
              "</table>\n",
              "</div>"
            ],
            "text/plain": [
              "        Count\n",
              "Gender       \n",
              "Female   4543\n",
              "Male     5457"
            ]
          },
          "metadata": {},
          "execution_count": 95
        }
      ]
    },
    {
      "cell_type": "code",
      "metadata": {
        "id": "kJBntn1Zg08H",
        "colab": {
          "base_uri": "https://localhost:8080/"
        },
        "outputId": "3242b388-46f4-47bc-b7a7-0d4469c1db0f"
      },
      "source": [
        "df['Gender'].value_counts().plot.pie(explode=[0,0.1],labels=['Male','Female'],autopct='%.2f%%',shadow=True,figsize=(5,5));"
      ],
      "execution_count": null,
      "outputs": [
        {
          "output_type": "display_data",
          "data": {
            "image/png": "[encoded data removed]",
            "text/plain": [
              "<Figure size 360x360 with 1 Axes>"
            ]
          },
          "metadata": {}
        }
      ]
    },
    {
      "cell_type": "markdown",
      "metadata": {
        "id": "UKxm5alPhMsr"
      },
      "source": [
        "### Age"
      ]
    },
    {
      "cell_type": "code",
      "metadata": {
        "id": "K4xfuATVrPOH",
        "colab": {
          "base_uri": "https://localhost:8080/"
        },
        "outputId": "b733508d-df2d-47be-c4f2-6e9ac90eb437"
      },
      "source": [
        "df[['Age']].describe()"
      ],
      "execution_count": null,
      "outputs": [
        {
          "output_type": "execute_result",
          "data": {
            "text/html": [
              "<div>\n",
              "<style scoped>\n",
              "    .dataframe tbody tr th:only-of-type {\n",
              "        vertical-align: middle;\n",
              "    }\n",
              "\n",
              "    .dataframe tbody tr th {\n",
              "        vertical-align: top;\n",
              "    }\n",
              "\n",
              "    .dataframe thead th {\n",
              "        text-align: right;\n",
              "    }\n",
              "</style>\n",
              "<table border=\"1\" class=\"dataframe\">\n",
              "  <thead>\n",
              "    <tr style=\"text-align: right;\">\n",
              "      <th></th>\n",
              "      <th>Age</th>\n",
              "    </tr>\n",
              "  </thead>\n",
              "  <tbody>\n",
              "    <tr>\n",
              "      <th>count</th>\n",
              "      <td>10000.000000</td>\n",
              "    </tr>\n",
              "    <tr>\n",
              "      <th>mean</th>\n",
              "      <td>38.921800</td>\n",
              "    </tr>\n",
              "    <tr>\n",
              "      <th>std</th>\n",
              "      <td>10.487806</td>\n",
              "    </tr>\n",
              "    <tr>\n",
              "      <th>min</th>\n",
              "      <td>18.000000</td>\n",
              "    </tr>\n",
              "    <tr>\n",
              "      <th>25%</th>\n",
              "      <td>32.000000</td>\n",
              "    </tr>\n",
              "    <tr>\n",
              "      <th>50%</th>\n",
              "      <td>37.000000</td>\n",
              "    </tr>\n",
              "    <tr>\n",
              "      <th>75%</th>\n",
              "      <td>44.000000</td>\n",
              "    </tr>\n",
              "    <tr>\n",
              "      <th>max</th>\n",
              "      <td>92.000000</td>\n",
              "    </tr>\n",
              "  </tbody>\n",
              "</table>\n",
              "</div>"
            ],
            "text/plain": [
              "                Age\n",
              "count  10000.000000\n",
              "mean      38.921800\n",
              "std       10.487806\n",
              "min       18.000000\n",
              "25%       32.000000\n",
              "50%       37.000000\n",
              "75%       44.000000\n",
              "max       92.000000"
            ]
          },
          "metadata": {},
          "execution_count": 97
        }
      ]
    },
    {
      "cell_type": "code",
      "metadata": {
        "id": "DlHnvR7Ortt8",
        "colab": {
          "base_uri": "https://localhost:8080/"
        },
        "outputId": "fa509689-8ead-4f8e-a5b5-4942fb2c6ce3"
      },
      "source": [
        "df[['Age']].mode().rename(index={0: 'Mode'})"
      ],
      "execution_count": null,
      "outputs": [
        {
          "output_type": "execute_result",
          "data": {
            "text/html": [
              "<div>\n",
              "<style scoped>\n",
              "    .dataframe tbody tr th:only-of-type {\n",
              "        vertical-align: middle;\n",
              "    }\n",
              "\n",
              "    .dataframe tbody tr th {\n",
              "        vertical-align: top;\n",
              "    }\n",
              "\n",
              "    .dataframe thead th {\n",
              "        text-align: right;\n",
              "    }\n",
              "</style>\n",
              "<table border=\"1\" class=\"dataframe\">\n",
              "  <thead>\n",
              "    <tr style=\"text-align: right;\">\n",
              "      <th></th>\n",
              "      <th>Age</th>\n",
              "    </tr>\n",
              "  </thead>\n",
              "  <tbody>\n",
              "    <tr>\n",
              "      <th>Mode</th>\n",
              "      <td>37</td>\n",
              "    </tr>\n",
              "  </tbody>\n",
              "</table>\n",
              "</div>"
            ],
            "text/plain": [
              "      Age\n",
              "Mode   37"
            ]
          },
          "metadata": {},
          "execution_count": 98
        }
      ]
    },
    {
      "cell_type": "code",
      "metadata": {
        "id": "IRqY4PDhr4m3",
        "colab": {
          "base_uri": "https://localhost:8080/"
        },
        "outputId": "822cb344-3718-46f6-b9cb-d0579cc031d7"
      },
      "source": [
        "sns.histplot(df['Age'],bins=25,kde='True');"
      ],
      "execution_count": null,
      "outputs": [
        {
          "output_type": "display_data",
          "data": {
            "image/png": "[encoded data removed]",
            "text/plain": [
              "<Figure size 432x288 with 1 Axes>"
            ]
          },
          "metadata": {}
        }
      ]
    },
    {
      "cell_type": "code",
      "metadata": {
        "id": "V5yc_MYcshL4",
        "colab": {
          "base_uri": "https://localhost:8080/"
        },
        "outputId": "02a7813d-24f2-4733-d5b8-7b4a091ca673"
      },
      "source": [
        "# Menghitung rentang antar kuartil serta batas-batas pencilan\n",
        "Q1 = df['Age'].quantile(q = 0.25)\n",
        "Q3 = df['Age'].quantile(q = 0.75)\n",
        "IQR = Q3 - Q1\n",
        "UIF = Q3 + 1.5 * IQR\n",
        "LIF = Q1 - 1.5 * IQR\n",
        "UOF = Q3 + 3 * IQR\n",
        "LOF = Q1 - 3 * IQR\n",
        "print('Rentang antar kuartil: ', IQR)\n",
        "print('Batas luar atas: ', UOF)\n",
        "print('Batas dalam atas: ', UIF)\n",
        "print('Batas dalam bawah: ', LIF)\n",
        "print('Batas luar bawah: ', LOF)"
      ],
      "execution_count": null,
      "outputs": [
        {
          "output_type": "stream",
          "name": "stdout",
          "text": [
            "Rentang antar kuartil:  12.0\n",
            "Batas luar atas:  80.0\n",
            "Batas dalam atas:  62.0\n",
            "Batas dalam bawah:  14.0\n",
            "Batas luar bawah:  -4.0\n"
          ]
        }
      ]
    },
    {
      "cell_type": "code",
      "metadata": {
        "id": "kfOel0Nztzkd",
        "colab": {
          "base_uri": "https://localhost:8080/"
        },
        "outputId": "7b137215-9186-474e-b414-bd00c23b1f7b"
      },
      "source": [
        "# Mengidentifikasi pencilan di atas batas luar atas\n",
        "print('Di atas batas luar atas:')\n",
        "df['Age'][df['Age'] > UOF]"
      ],
      "execution_count": null,
      "outputs": [
        {
          "output_type": "stream",
          "name": "stdout",
          "text": [
            "Di atas batas luar atas:\n"
          ]
        },
        {
          "output_type": "execute_result",
          "data": {
            "text/plain": [
              "766     82\n",
              "2458    88\n",
              "3033    85\n",
              "3387    84\n",
              "3531    84\n",
              "4931    81\n",
              "6443    92\n",
              "6759    92\n",
              "7526    81\n",
              "7956    81\n",
              "9080    81\n",
              "9309    83\n",
              "Name: Age, dtype: int64"
            ]
          },
          "metadata": {},
          "execution_count": 101
        }
      ]
    },
    {
      "cell_type": "code",
      "metadata": {
        "id": "XbuYwIG_sn_3",
        "colab": {
          "base_uri": "https://localhost:8080/"
        },
        "outputId": "837a4c5d-b49c-42b9-9d34-7143a2ac2e50"
      },
      "source": [
        "# Mengidentifikasi pencilan di atas batas dalam atas\n",
        "print('Di atas batas dalam atas:')\n",
        "df['Age'][df['Age'] > UIF]"
      ],
      "execution_count": null,
      "outputs": [
        {
          "output_type": "stream",
          "name": "stdout",
          "text": [
            "Di atas batas dalam atas:\n"
          ]
        },
        {
          "output_type": "execute_result",
          "data": {
            "text/plain": [
              "58      66\n",
              "85      75\n",
              "104     65\n",
              "158     73\n",
              "181     65\n",
              "        ..\n",
              "9753    68\n",
              "9765    64\n",
              "9832    64\n",
              "9894    77\n",
              "9936    77\n",
              "Name: Age, Length: 359, dtype: int64"
            ]
          },
          "metadata": {},
          "execution_count": 102
        }
      ]
    },
    {
      "cell_type": "code",
      "metadata": {
        "id": "bEHAUK2usz93",
        "colab": {
          "base_uri": "https://localhost:8080/"
        },
        "outputId": "d05a6b9e-1eb2-411f-f007-38c85b49dfef"
      },
      "source": [
        "# Mengidentifikasi pencilan di bawah batas dalam bawah\n",
        "print('Di bawah batas dalam bawah:')\n",
        "df['Age'][df['Age'] < LIF]"
      ],
      "execution_count": null,
      "outputs": [
        {
          "output_type": "stream",
          "name": "stdout",
          "text": [
            "Di bawah batas dalam bawah:\n"
          ]
        },
        {
          "output_type": "execute_result",
          "data": {
            "text/plain": [
              "Series([], Name: Age, dtype: int64)"
            ]
          },
          "metadata": {},
          "execution_count": 103
        }
      ]
    },
    {
      "cell_type": "code",
      "metadata": {
        "id": "R2caOcvCtHKh",
        "colab": {
          "base_uri": "https://localhost:8080/"
        },
        "outputId": "b773c173-43e1-4457-ed01-c5cc388c3fd0"
      },
      "source": [
        "# Mengidentifikasi pencilan di bawah batas luar bawah\n",
        "print('Di bawah batas luar bawah:')\n",
        "df['Age'][df['Age'] < LOF]"
      ],
      "execution_count": null,
      "outputs": [
        {
          "output_type": "stream",
          "name": "stdout",
          "text": [
            "Di bawah batas luar bawah:\n"
          ]
        },
        {
          "output_type": "execute_result",
          "data": {
            "text/plain": [
              "Series([], Name: Age, dtype: int64)"
            ]
          },
          "metadata": {},
          "execution_count": 104
        }
      ]
    },
    {
      "cell_type": "code",
      "metadata": {
        "id": "GSg6GM8EtksT",
        "colab": {
          "base_uri": "https://localhost:8080/"
        },
        "outputId": "29fe1370-7944-4997-a676-844fa002a063"
      },
      "source": [
        "sns.boxplot(x=df['Age']);"
      ],
      "execution_count": null,
      "outputs": [
        {
          "output_type": "display_data",
          "data": {
            "image/png": "[encoded data removed]",
            "text/plain": [
              "<Figure size 432x288 with 1 Axes>"
            ]
          },
          "metadata": {}
        }
      ]
    },
    {
      "cell_type": "markdown",
      "metadata": {
        "id": "LmTw0XWexWuO"
      },
      "source": [
        "### Tenure"
      ]
    },
    {
      "cell_type": "code",
      "metadata": {
        "id": "x-m13cMxxA51",
        "colab": {
          "base_uri": "https://localhost:8080/"
        },
        "outputId": "a5226f0d-38e3-4b35-c485-4c7202812d29"
      },
      "source": [
        "df[['Tenure']].describe()"
      ],
      "execution_count": null,
      "outputs": [
        {
          "output_type": "execute_result",
          "data": {
            "text/html": [
              "<div>\n",
              "<style scoped>\n",
              "    .dataframe tbody tr th:only-of-type {\n",
              "        vertical-align: middle;\n",
              "    }\n",
              "\n",
              "    .dataframe tbody tr th {\n",
              "        vertical-align: top;\n",
              "    }\n",
              "\n",
              "    .dataframe thead th {\n",
              "        text-align: right;\n",
              "    }\n",
              "</style>\n",
              "<table border=\"1\" class=\"dataframe\">\n",
              "  <thead>\n",
              "    <tr style=\"text-align: right;\">\n",
              "      <th></th>\n",
              "      <th>Tenure</th>\n",
              "    </tr>\n",
              "  </thead>\n",
              "  <tbody>\n",
              "    <tr>\n",
              "      <th>count</th>\n",
              "      <td>10000.000000</td>\n",
              "    </tr>\n",
              "    <tr>\n",
              "      <th>mean</th>\n",
              "      <td>5.012800</td>\n",
              "    </tr>\n",
              "    <tr>\n",
              "      <th>std</th>\n",
              "      <td>2.892174</td>\n",
              "    </tr>\n",
              "    <tr>\n",
              "      <th>min</th>\n",
              "      <td>0.000000</td>\n",
              "    </tr>\n",
              "    <tr>\n",
              "      <th>25%</th>\n",
              "      <td>3.000000</td>\n",
              "    </tr>\n",
              "    <tr>\n",
              "      <th>50%</th>\n",
              "      <td>5.000000</td>\n",
              "    </tr>\n",
              "    <tr>\n",
              "      <th>75%</th>\n",
              "      <td>7.000000</td>\n",
              "    </tr>\n",
              "    <tr>\n",
              "      <th>max</th>\n",
              "      <td>10.000000</td>\n",
              "    </tr>\n",
              "  </tbody>\n",
              "</table>\n",
              "</div>"
            ],
            "text/plain": [
              "             Tenure\n",
              "count  10000.000000\n",
              "mean       5.012800\n",
              "std        2.892174\n",
              "min        0.000000\n",
              "25%        3.000000\n",
              "50%        5.000000\n",
              "75%        7.000000\n",
              "max       10.000000"
            ]
          },
          "metadata": {},
          "execution_count": 106
        }
      ]
    },
    {
      "cell_type": "code",
      "metadata": {
        "id": "LjR9mFLdxT1n",
        "colab": {
          "base_uri": "https://localhost:8080/"
        },
        "outputId": "e1199243-e0dd-45e8-e25e-b28669874570"
      },
      "source": [
        "df[['Tenure']].mode().rename(index={0: 'Mode'})"
      ],
      "execution_count": null,
      "outputs": [
        {
          "output_type": "execute_result",
          "data": {
            "text/html": [
              "<div>\n",
              "<style scoped>\n",
              "    .dataframe tbody tr th:only-of-type {\n",
              "        vertical-align: middle;\n",
              "    }\n",
              "\n",
              "    .dataframe tbody tr th {\n",
              "        vertical-align: top;\n",
              "    }\n",
              "\n",
              "    .dataframe thead th {\n",
              "        text-align: right;\n",
              "    }\n",
              "</style>\n",
              "<table border=\"1\" class=\"dataframe\">\n",
              "  <thead>\n",
              "    <tr style=\"text-align: right;\">\n",
              "      <th></th>\n",
              "      <th>Tenure</th>\n",
              "    </tr>\n",
              "  </thead>\n",
              "  <tbody>\n",
              "    <tr>\n",
              "      <th>Mode</th>\n",
              "      <td>2</td>\n",
              "    </tr>\n",
              "  </tbody>\n",
              "</table>\n",
              "</div>"
            ],
            "text/plain": [
              "      Tenure\n",
              "Mode       2"
            ]
          },
          "metadata": {},
          "execution_count": 107
        }
      ]
    },
    {
      "cell_type": "code",
      "metadata": {
        "id": "_ffQ0r2-pPhI",
        "colab": {
          "base_uri": "https://localhost:8080/"
        },
        "outputId": "9d431200-b24f-4ba9-8fb0-6793a47e38a4"
      },
      "source": [
        "df['Tenure'].value_counts().rename_axis('Tenure').to_frame('Count').sort_values(by='Tenure')"
      ],
      "execution_count": null,
      "outputs": [
        {
          "output_type": "execute_result",
          "data": {
            "text/html": [
              "<div>\n",
              "<style scoped>\n",
              "    .dataframe tbody tr th:only-of-type {\n",
              "        vertical-align: middle;\n",
              "    }\n",
              "\n",
              "    .dataframe tbody tr th {\n",
              "        vertical-align: top;\n",
              "    }\n",
              "\n",
              "    .dataframe thead th {\n",
              "        text-align: right;\n",
              "    }\n",
              "</style>\n",
              "<table border=\"1\" class=\"dataframe\">\n",
              "  <thead>\n",
              "    <tr style=\"text-align: right;\">\n",
              "      <th></th>\n",
              "      <th>Count</th>\n",
              "    </tr>\n",
              "    <tr>\n",
              "      <th>Tenure</th>\n",
              "      <th></th>\n",
              "    </tr>\n",
              "  </thead>\n",
              "  <tbody>\n",
              "    <tr>\n",
              "      <th>0</th>\n",
              "      <td>413</td>\n",
              "    </tr>\n",
              "    <tr>\n",
              "      <th>1</th>\n",
              "      <td>1035</td>\n",
              "    </tr>\n",
              "    <tr>\n",
              "      <th>2</th>\n",
              "      <td>1048</td>\n",
              "    </tr>\n",
              "    <tr>\n",
              "      <th>3</th>\n",
              "      <td>1009</td>\n",
              "    </tr>\n",
              "    <tr>\n",
              "      <th>4</th>\n",
              "      <td>989</td>\n",
              "    </tr>\n",
              "    <tr>\n",
              "      <th>5</th>\n",
              "      <td>1012</td>\n",
              "    </tr>\n",
              "    <tr>\n",
              "      <th>6</th>\n",
              "      <td>967</td>\n",
              "    </tr>\n",
              "    <tr>\n",
              "      <th>7</th>\n",
              "      <td>1028</td>\n",
              "    </tr>\n",
              "    <tr>\n",
              "      <th>8</th>\n",
              "      <td>1025</td>\n",
              "    </tr>\n",
              "    <tr>\n",
              "      <th>9</th>\n",
              "      <td>984</td>\n",
              "    </tr>\n",
              "    <tr>\n",
              "      <th>10</th>\n",
              "      <td>490</td>\n",
              "    </tr>\n",
              "  </tbody>\n",
              "</table>\n",
              "</div>"
            ],
            "text/plain": [
              "        Count\n",
              "Tenure       \n",
              "0         413\n",
              "1        1035\n",
              "2        1048\n",
              "3        1009\n",
              "4         989\n",
              "5        1012\n",
              "6         967\n",
              "7        1028\n",
              "8        1025\n",
              "9         984\n",
              "10        490"
            ]
          },
          "metadata": {},
          "execution_count": 108
        }
      ]
    },
    {
      "cell_type": "code",
      "metadata": {
        "id": "OiyEHmmixeWy",
        "colab": {
          "base_uri": "https://localhost:8080/"
        },
        "outputId": "4c0532cc-2f69-472f-ea97-142b7632fed6"
      },
      "source": [
        "sns.countplot(x=df['Tenure'],color='#2c7fb8');"
      ],
      "execution_count": null,
      "outputs": [
        {
          "output_type": "display_data",
          "data": {
            "image/png": "[encoded data removed]",
            "text/plain": [
              "<Figure size 432x288 with 1 Axes>"
            ]
          },
          "metadata": {}
        }
      ]
    },
    {
      "cell_type": "code",
      "metadata": {
        "id": "Y-Qctpstyr_k",
        "colab": {
          "base_uri": "https://localhost:8080/"
        },
        "outputId": "3a2a2ff2-3dba-418d-c7df-29f24a0d68d6"
      },
      "source": [
        "# Menghitung rentang antar kuartil serta batas-batas pencilan\n",
        "Q1 = df['Tenure'].quantile(q = 0.25)\n",
        "Q3 = df['Tenure'].quantile(q = 0.75)\n",
        "IQR = Q3 - Q1\n",
        "UIF = Q3 + 1.5 * IQR\n",
        "LIF = Q1 - 1.5 * IQR\n",
        "UOF = Q3 + 3 * IQR\n",
        "LOF = Q1 - 3 * IQR\n",
        "print('Rentang antar kuartil: ', IQR)\n",
        "print('Batas luar atas: ', UOF)\n",
        "print('Batas dalam atas: ', UIF)\n",
        "print('Batas dalam bawah: ', LIF)\n",
        "print('Batas luar bawah: ', LOF)"
      ],
      "execution_count": null,
      "outputs": [
        {
          "output_type": "stream",
          "name": "stdout",
          "text": [
            "Rentang antar kuartil:  4.0\n",
            "Batas luar atas:  19.0\n",
            "Batas dalam atas:  13.0\n",
            "Batas dalam bawah:  -3.0\n",
            "Batas luar bawah:  -9.0\n"
          ]
        }
      ]
    },
    {
      "cell_type": "code",
      "metadata": {
        "id": "1jyRBc86y6_S",
        "colab": {
          "base_uri": "https://localhost:8080/"
        },
        "outputId": "7520551e-a643-42b4-b752-17c13d5d67b0"
      },
      "source": [
        "# Mengidentifikasi pencilan di atas batas luar atas\n",
        "print('Di atas batas luar atas:')\n",
        "df['Tenure'][df['Tenure'] > UOF]"
      ],
      "execution_count": null,
      "outputs": [
        {
          "output_type": "stream",
          "name": "stdout",
          "text": [
            "Di atas batas luar atas:\n"
          ]
        },
        {
          "output_type": "execute_result",
          "data": {
            "text/plain": [
              "Series([], Name: Tenure, dtype: int64)"
            ]
          },
          "metadata": {},
          "execution_count": 111
        }
      ]
    },
    {
      "cell_type": "code",
      "metadata": {
        "id": "oeIQsviny6_T",
        "colab": {
          "base_uri": "https://localhost:8080/"
        },
        "outputId": "f421faa8-c3fd-43f5-9e02-2494792c3221"
      },
      "source": [
        "# Mengidentifikasi pencilan di atas batas dalam atas\n",
        "print('Di atas batas dalam atas:')\n",
        "df['Tenure'][df['Tenure'] > UIF]"
      ],
      "execution_count": null,
      "outputs": [
        {
          "output_type": "stream",
          "name": "stdout",
          "text": [
            "Di atas batas dalam atas:\n"
          ]
        },
        {
          "output_type": "execute_result",
          "data": {
            "text/plain": [
              "Series([], Name: Tenure, dtype: int64)"
            ]
          },
          "metadata": {},
          "execution_count": 112
        }
      ]
    },
    {
      "cell_type": "code",
      "metadata": {
        "id": "TguSEFnay6_U",
        "colab": {
          "base_uri": "https://localhost:8080/"
        },
        "outputId": "aa717479-5ff5-48a0-9fc1-0f90d68df7f8"
      },
      "source": [
        "# Mengidentifikasi pencilan di bawah batas dalam bawah\n",
        "print('Di bawah batas dalam bawah:')\n",
        "df['Tenure'][df['Tenure'] < LIF]"
      ],
      "execution_count": null,
      "outputs": [
        {
          "output_type": "stream",
          "name": "stdout",
          "text": [
            "Di bawah batas dalam bawah:\n"
          ]
        },
        {
          "output_type": "execute_result",
          "data": {
            "text/plain": [
              "Series([], Name: Tenure, dtype: int64)"
            ]
          },
          "metadata": {},
          "execution_count": 113
        }
      ]
    },
    {
      "cell_type": "code",
      "metadata": {
        "id": "ukKYxgB_y6_U",
        "colab": {
          "base_uri": "https://localhost:8080/"
        },
        "outputId": "49955551-00bd-4bb9-ad6d-70fb9ee0d781"
      },
      "source": [
        "# Mengidentifikasi pencilan di bawah batas luar bawah\n",
        "print('Di bawah batas luar bawah:')\n",
        "df['Tenure'][df['Tenure'] < LOF]"
      ],
      "execution_count": null,
      "outputs": [
        {
          "output_type": "stream",
          "name": "stdout",
          "text": [
            "Di bawah batas luar bawah:\n"
          ]
        },
        {
          "output_type": "execute_result",
          "data": {
            "text/plain": [
              "Series([], Name: Tenure, dtype: int64)"
            ]
          },
          "metadata": {},
          "execution_count": 114
        }
      ]
    },
    {
      "cell_type": "code",
      "metadata": {
        "id": "c5Fum9q2zN9Y",
        "colab": {
          "base_uri": "https://localhost:8080/"
        },
        "outputId": "8bfa1839-caf0-4a03-85c0-098106058350"
      },
      "source": [
        "sns.boxplot(x=df['Tenure']);"
      ],
      "execution_count": null,
      "outputs": [
        {
          "output_type": "display_data",
          "data": {
            "image/png": "[encoded data removed]",
            "text/plain": [
              "<Figure size 432x288 with 1 Axes>"
            ]
          },
          "metadata": {}
        }
      ]
    },
    {
      "cell_type": "markdown",
      "metadata": {
        "id": "WFTqY0_ar02F"
      },
      "source": [
        "### Balance"
      ]
    },
    {
      "cell_type": "code",
      "metadata": {
        "id": "gg2cpq7_r-gI",
        "colab": {
          "base_uri": "https://localhost:8080/"
        },
        "outputId": "59545ccb-b81b-407f-e17e-caa7e9ae2269"
      },
      "source": [
        "df[['Balance']].describe()"
      ],
      "execution_count": null,
      "outputs": [
        {
          "output_type": "execute_result",
          "data": {
            "text/html": [
              "<div>\n",
              "<style scoped>\n",
              "    .dataframe tbody tr th:only-of-type {\n",
              "        vertical-align: middle;\n",
              "    }\n",
              "\n",
              "    .dataframe tbody tr th {\n",
              "        vertical-align: top;\n",
              "    }\n",
              "\n",
              "    .dataframe thead th {\n",
              "        text-align: right;\n",
              "    }\n",
              "</style>\n",
              "<table border=\"1\" class=\"dataframe\">\n",
              "  <thead>\n",
              "    <tr style=\"text-align: right;\">\n",
              "      <th></th>\n",
              "      <th>Balance</th>\n",
              "    </tr>\n",
              "  </thead>\n",
              "  <tbody>\n",
              "    <tr>\n",
              "      <th>count</th>\n",
              "      <td>10000.000000</td>\n",
              "    </tr>\n",
              "    <tr>\n",
              "      <th>mean</th>\n",
              "      <td>76485.889288</td>\n",
              "    </tr>\n",
              "    <tr>\n",
              "      <th>std</th>\n",
              "      <td>62397.405202</td>\n",
              "    </tr>\n",
              "    <tr>\n",
              "      <th>min</th>\n",
              "      <td>0.000000</td>\n",
              "    </tr>\n",
              "    <tr>\n",
              "      <th>25%</th>\n",
              "      <td>0.000000</td>\n",
              "    </tr>\n",
              "    <tr>\n",
              "      <th>50%</th>\n",
              "      <td>97198.540000</td>\n",
              "    </tr>\n",
              "    <tr>\n",
              "      <th>75%</th>\n",
              "      <td>127644.240000</td>\n",
              "    </tr>\n",
              "    <tr>\n",
              "      <th>max</th>\n",
              "      <td>250898.090000</td>\n",
              "    </tr>\n",
              "  </tbody>\n",
              "</table>\n",
              "</div>"
            ],
            "text/plain": [
              "             Balance\n",
              "count   10000.000000\n",
              "mean    76485.889288\n",
              "std     62397.405202\n",
              "min         0.000000\n",
              "25%         0.000000\n",
              "50%     97198.540000\n",
              "75%    127644.240000\n",
              "max    250898.090000"
            ]
          },
          "metadata": {},
          "execution_count": 116
        }
      ]
    },
    {
      "cell_type": "code",
      "metadata": {
        "id": "Pc7tjsnnsJkN",
        "colab": {
          "base_uri": "https://localhost:8080/"
        },
        "outputId": "11915b2a-71d4-4fd6-f820-481f8cfae50d"
      },
      "source": [
        "df[['Balance']].mode().rename(index={0: 'Mode'})"
      ],
      "execution_count": null,
      "outputs": [
        {
          "output_type": "execute_result",
          "data": {
            "text/html": [
              "<div>\n",
              "<style scoped>\n",
              "    .dataframe tbody tr th:only-of-type {\n",
              "        vertical-align: middle;\n",
              "    }\n",
              "\n",
              "    .dataframe tbody tr th {\n",
              "        vertical-align: top;\n",
              "    }\n",
              "\n",
              "    .dataframe thead th {\n",
              "        text-align: right;\n",
              "    }\n",
              "</style>\n",
              "<table border=\"1\" class=\"dataframe\">\n",
              "  <thead>\n",
              "    <tr style=\"text-align: right;\">\n",
              "      <th></th>\n",
              "      <th>Balance</th>\n",
              "    </tr>\n",
              "  </thead>\n",
              "  <tbody>\n",
              "    <tr>\n",
              "      <th>Mode</th>\n",
              "      <td>0.0</td>\n",
              "    </tr>\n",
              "  </tbody>\n",
              "</table>\n",
              "</div>"
            ],
            "text/plain": [
              "      Balance\n",
              "Mode      0.0"
            ]
          },
          "metadata": {},
          "execution_count": 117
        }
      ]
    },
    {
      "cell_type": "code",
      "metadata": {
        "id": "2MrJblm8shbB",
        "colab": {
          "base_uri": "https://localhost:8080/"
        },
        "outputId": "a245edf6-dfbf-4108-ef54-f30996a4ba2f"
      },
      "source": [
        "sns.histplot(df['Balance'],bins=25,kde='True');"
      ],
      "execution_count": null,
      "outputs": [
        {
          "output_type": "display_data",
          "data": {
            "image/png": "[encoded data removed]",
            "text/plain": [
              "<Figure size 432x288 with 1 Axes>"
            ]
          },
          "metadata": {}
        }
      ]
    },
    {
      "cell_type": "code",
      "metadata": {
        "id": "EkBhJPV8tqAP",
        "colab": {
          "base_uri": "https://localhost:8080/"
        },
        "outputId": "5baac678-e2f2-4c82-e146-6659ca28ef69"
      },
      "source": [
        "# Menghitung rentang antar kuartil serta batas-batas pencilan\n",
        "Q1 = df['Balance'].quantile(q = 0.25)\n",
        "Q3 = df['Balance'].quantile(q = 0.75)\n",
        "IQR = Q3 - Q1\n",
        "UIF = Q3 + 1.5 * IQR\n",
        "LIF = Q1 - 1.5 * IQR\n",
        "UOF = Q3 + 3 * IQR\n",
        "LOF = Q1 - 3 * IQR\n",
        "print('Rentang antar kuartil: ', IQR)\n",
        "print('Batas luar atas: ', UOF)\n",
        "print('Batas dalam atas: ', UIF)\n",
        "print('Batas dalam bawah: ', LIF)\n",
        "print('Batas luar bawah: ', LOF)"
      ],
      "execution_count": null,
      "outputs": [
        {
          "output_type": "stream",
          "name": "stdout",
          "text": [
            "Rentang antar kuartil:  127644.24\n",
            "Batas luar atas:  510576.96\n",
            "Batas dalam atas:  319110.60000000003\n",
            "Batas dalam bawah:  -191466.36000000002\n",
            "Batas luar bawah:  -382932.72000000003\n"
          ]
        }
      ]
    },
    {
      "cell_type": "code",
      "metadata": {
        "id": "EXmrUKUXuFMf",
        "colab": {
          "base_uri": "https://localhost:8080/"
        },
        "outputId": "3cc44fcb-f419-4157-ba99-c93894cb4fc4"
      },
      "source": [
        "# Mengidentifikasi pencilan di atas batas luar atas\n",
        "print('Di atas batas luar atas:')\n",
        "df['Balance'][df['Balance'] > UOF]"
      ],
      "execution_count": null,
      "outputs": [
        {
          "output_type": "stream",
          "name": "stdout",
          "text": [
            "Di atas batas luar atas:\n"
          ]
        },
        {
          "output_type": "execute_result",
          "data": {
            "text/plain": [
              "Series([], Name: Balance, dtype: float64)"
            ]
          },
          "metadata": {},
          "execution_count": 120
        }
      ]
    },
    {
      "cell_type": "code",
      "metadata": {
        "id": "S4gW_ZfWuFM4",
        "colab": {
          "base_uri": "https://localhost:8080/"
        },
        "outputId": "e83b3630-283a-4f75-a38e-65c40e3fd9be"
      },
      "source": [
        "# Mengidentifikasi pencilan di atas batas dalam atas\n",
        "print('Di atas batas dalam atas:')\n",
        "df['Balance'][df['Balance'] > UIF]"
      ],
      "execution_count": null,
      "outputs": [
        {
          "output_type": "stream",
          "name": "stdout",
          "text": [
            "Di atas batas dalam atas:\n"
          ]
        },
        {
          "output_type": "execute_result",
          "data": {
            "text/plain": [
              "Series([], Name: Balance, dtype: float64)"
            ]
          },
          "metadata": {},
          "execution_count": 121
        }
      ]
    },
    {
      "cell_type": "code",
      "metadata": {
        "id": "u0jdfL5xuFM5",
        "colab": {
          "base_uri": "https://localhost:8080/"
        },
        "outputId": "72a4da86-b4ca-4ffe-d7c9-0e0c16ca493c"
      },
      "source": [
        "# Mengidentifikasi pencilan di bawah batas dalam bawah\n",
        "print('Di bawah batas dalam bawah:')\n",
        "df['Balance'][df['Balance'] < LIF]"
      ],
      "execution_count": null,
      "outputs": [
        {
          "output_type": "stream",
          "name": "stdout",
          "text": [
            "Di bawah batas dalam bawah:\n"
          ]
        },
        {
          "output_type": "execute_result",
          "data": {
            "text/plain": [
              "Series([], Name: Balance, dtype: float64)"
            ]
          },
          "metadata": {},
          "execution_count": 122
        }
      ]
    },
    {
      "cell_type": "code",
      "metadata": {
        "id": "js_9jzdkuFM6",
        "colab": {
          "base_uri": "https://localhost:8080/"
        },
        "outputId": "3da9c7d0-f884-4978-b56f-b34a6be7cb4e"
      },
      "source": [
        "# Mengidentifikasi pencilan di bawah batas luar bawah\n",
        "print('Di bawah batas luar bawah:')\n",
        "df['Balance'][df['Balance'] < LOF]"
      ],
      "execution_count": null,
      "outputs": [
        {
          "output_type": "stream",
          "name": "stdout",
          "text": [
            "Di bawah batas luar bawah:\n"
          ]
        },
        {
          "output_type": "execute_result",
          "data": {
            "text/plain": [
              "Series([], Name: Balance, dtype: float64)"
            ]
          },
          "metadata": {},
          "execution_count": 123
        }
      ]
    },
    {
      "cell_type": "code",
      "metadata": {
        "id": "gFjq2w4jubdf",
        "colab": {
          "base_uri": "https://localhost:8080/"
        },
        "outputId": "9b802b42-1fe0-4c56-9b80-55d3b0b1db1d"
      },
      "source": [
        "sns.boxplot(x=df['Balance']);"
      ],
      "execution_count": null,
      "outputs": [
        {
          "output_type": "display_data",
          "data": {
            "image/png": "[encoded data removed]",
            "text/plain": [
              "<Figure size 432x288 with 1 Axes>"
            ]
          },
          "metadata": {}
        }
      ]
    },
    {
      "cell_type": "markdown",
      "metadata": {
        "id": "nyukNbTVxndh"
      },
      "source": [
        "### NumOfProducts"
      ]
    },
    {
      "cell_type": "code",
      "metadata": {
        "id": "W1N5F5dQx9hB",
        "colab": {
          "base_uri": "https://localhost:8080/"
        },
        "outputId": "b23b4e27-f0ff-4d5a-cfd6-191d6f772841"
      },
      "source": [
        "df[['NumOfProducts']].describe()"
      ],
      "execution_count": null,
      "outputs": [
        {
          "output_type": "execute_result",
          "data": {
            "text/html": [
              "<div>\n",
              "<style scoped>\n",
              "    .dataframe tbody tr th:only-of-type {\n",
              "        vertical-align: middle;\n",
              "    }\n",
              "\n",
              "    .dataframe tbody tr th {\n",
              "        vertical-align: top;\n",
              "    }\n",
              "\n",
              "    .dataframe thead th {\n",
              "        text-align: right;\n",
              "    }\n",
              "</style>\n",
              "<table border=\"1\" class=\"dataframe\">\n",
              "  <thead>\n",
              "    <tr style=\"text-align: right;\">\n",
              "      <th></th>\n",
              "      <th>NumOfProducts</th>\n",
              "    </tr>\n",
              "  </thead>\n",
              "  <tbody>\n",
              "    <tr>\n",
              "      <th>count</th>\n",
              "      <td>10000.000000</td>\n",
              "    </tr>\n",
              "    <tr>\n",
              "      <th>mean</th>\n",
              "      <td>1.530200</td>\n",
              "    </tr>\n",
              "    <tr>\n",
              "      <th>std</th>\n",
              "      <td>0.581654</td>\n",
              "    </tr>\n",
              "    <tr>\n",
              "      <th>min</th>\n",
              "      <td>1.000000</td>\n",
              "    </tr>\n",
              "    <tr>\n",
              "      <th>25%</th>\n",
              "      <td>1.000000</td>\n",
              "    </tr>\n",
              "    <tr>\n",
              "      <th>50%</th>\n",
              "      <td>1.000000</td>\n",
              "    </tr>\n",
              "    <tr>\n",
              "      <th>75%</th>\n",
              "      <td>2.000000</td>\n",
              "    </tr>\n",
              "    <tr>\n",
              "      <th>max</th>\n",
              "      <td>4.000000</td>\n",
              "    </tr>\n",
              "  </tbody>\n",
              "</table>\n",
              "</div>"
            ],
            "text/plain": [
              "       NumOfProducts\n",
              "count   10000.000000\n",
              "mean        1.530200\n",
              "std         0.581654\n",
              "min         1.000000\n",
              "25%         1.000000\n",
              "50%         1.000000\n",
              "75%         2.000000\n",
              "max         4.000000"
            ]
          },
          "metadata": {},
          "execution_count": 125
        }
      ]
    },
    {
      "cell_type": "code",
      "metadata": {
        "id": "qd3XGY_xx9hc",
        "colab": {
          "base_uri": "https://localhost:8080/"
        },
        "outputId": "5817b4e4-bf1e-4809-d547-0864dfe6171a"
      },
      "source": [
        "df[['NumOfProducts']].mode().rename(index={0: 'Mode'})"
      ],
      "execution_count": null,
      "outputs": [
        {
          "output_type": "execute_result",
          "data": {
            "text/html": [
              "<div>\n",
              "<style scoped>\n",
              "    .dataframe tbody tr th:only-of-type {\n",
              "        vertical-align: middle;\n",
              "    }\n",
              "\n",
              "    .dataframe tbody tr th {\n",
              "        vertical-align: top;\n",
              "    }\n",
              "\n",
              "    .dataframe thead th {\n",
              "        text-align: right;\n",
              "    }\n",
              "</style>\n",
              "<table border=\"1\" class=\"dataframe\">\n",
              "  <thead>\n",
              "    <tr style=\"text-align: right;\">\n",
              "      <th></th>\n",
              "      <th>NumOfProducts</th>\n",
              "    </tr>\n",
              "  </thead>\n",
              "  <tbody>\n",
              "    <tr>\n",
              "      <th>Mode</th>\n",
              "      <td>1</td>\n",
              "    </tr>\n",
              "  </tbody>\n",
              "</table>\n",
              "</div>"
            ],
            "text/plain": [
              "      NumOfProducts\n",
              "Mode              1"
            ]
          },
          "metadata": {},
          "execution_count": 126
        }
      ]
    },
    {
      "cell_type": "code",
      "metadata": {
        "id": "jBLjoGe0x9hd",
        "colab": {
          "base_uri": "https://localhost:8080/"
        },
        "outputId": "df03ca90-da8e-444d-a362-a20fcbc15767"
      },
      "source": [
        "df['NumOfProducts'].value_counts().rename_axis('NumOfProducts').to_frame('Count').sort_values(by='NumOfProducts')"
      ],
      "execution_count": null,
      "outputs": [
        {
          "output_type": "execute_result",
          "data": {
            "text/html": [
              "<div>\n",
              "<style scoped>\n",
              "    .dataframe tbody tr th:only-of-type {\n",
              "        vertical-align: middle;\n",
              "    }\n",
              "\n",
              "    .dataframe tbody tr th {\n",
              "        vertical-align: top;\n",
              "    }\n",
              "\n",
              "    .dataframe thead th {\n",
              "        text-align: right;\n",
              "    }\n",
              "</style>\n",
              "<table border=\"1\" class=\"dataframe\">\n",
              "  <thead>\n",
              "    <tr style=\"text-align: right;\">\n",
              "      <th></th>\n",
              "      <th>Count</th>\n",
              "    </tr>\n",
              "    <tr>\n",
              "      <th>NumOfProducts</th>\n",
              "      <th></th>\n",
              "    </tr>\n",
              "  </thead>\n",
              "  <tbody>\n",
              "    <tr>\n",
              "      <th>1</th>\n",
              "      <td>5084</td>\n",
              "    </tr>\n",
              "    <tr>\n",
              "      <th>2</th>\n",
              "      <td>4590</td>\n",
              "    </tr>\n",
              "    <tr>\n",
              "      <th>3</th>\n",
              "      <td>266</td>\n",
              "    </tr>\n",
              "    <tr>\n",
              "      <th>4</th>\n",
              "      <td>60</td>\n",
              "    </tr>\n",
              "  </tbody>\n",
              "</table>\n",
              "</div>"
            ],
            "text/plain": [
              "               Count\n",
              "NumOfProducts       \n",
              "1               5084\n",
              "2               4590\n",
              "3                266\n",
              "4                 60"
            ]
          },
          "metadata": {},
          "execution_count": 127
        }
      ]
    },
    {
      "cell_type": "code",
      "metadata": {
        "id": "YnDGIoKGx9hd",
        "colab": {
          "base_uri": "https://localhost:8080/"
        },
        "outputId": "e5295fe7-e727-432f-976b-002e9b300989"
      },
      "source": [
        "sns.countplot(x=df['NumOfProducts'],color='#2c7fb8'); #8ebad9"
      ],
      "execution_count": null,
      "outputs": [
        {
          "output_type": "display_data",
          "data": {
            "image/png": "[encoded data removed]",
            "text/plain": [
              "<Figure size 432x288 with 1 Axes>"
            ]
          },
          "metadata": {}
        }
      ]
    },
    {
      "cell_type": "code",
      "metadata": {
        "id": "kzDrmh-cx9hd",
        "colab": {
          "base_uri": "https://localhost:8080/"
        },
        "outputId": "3c61edcf-bc1c-4b68-ecc6-75b9769b63d0"
      },
      "source": [
        "# Menghitung rentang antar kuartil serta batas-batas pencilan\n",
        "Q1 = df['NumOfProducts'].quantile(q = 0.25)\n",
        "Q3 = df['NumOfProducts'].quantile(q = 0.75)\n",
        "IQR = Q3 - Q1\n",
        "UIF = Q3 + 1.5 * IQR\n",
        "LIF = Q1 - 1.5 * IQR\n",
        "UOF = Q3 + 3 * IQR\n",
        "LOF = Q1 - 3 * IQR\n",
        "print('Rentang antar kuartil: ', IQR)\n",
        "print('Batas luar atas: ', UOF)\n",
        "print('Batas dalam atas: ', UIF)\n",
        "print('Batas dalam bawah: ', LIF)\n",
        "print('Batas luar bawah: ', LOF)"
      ],
      "execution_count": null,
      "outputs": [
        {
          "output_type": "stream",
          "name": "stdout",
          "text": [
            "Rentang antar kuartil:  1.0\n",
            "Batas luar atas:  5.0\n",
            "Batas dalam atas:  3.5\n",
            "Batas dalam bawah:  -0.5\n",
            "Batas luar bawah:  -2.0\n"
          ]
        }
      ]
    },
    {
      "cell_type": "code",
      "metadata": {
        "id": "RxidBHeUx9he",
        "colab": {
          "base_uri": "https://localhost:8080/"
        },
        "outputId": "148c592b-200d-450e-c931-a0121c4b8427"
      },
      "source": [
        "# Mengidentifikasi pencilan di atas batas luar atas\n",
        "print('Di atas batas luar atas:')\n",
        "df['NumOfProducts'][df['NumOfProducts'] > UOF]"
      ],
      "execution_count": null,
      "outputs": [
        {
          "output_type": "stream",
          "name": "stdout",
          "text": [
            "Di atas batas luar atas:\n"
          ]
        },
        {
          "output_type": "execute_result",
          "data": {
            "text/plain": [
              "Series([], Name: NumOfProducts, dtype: int64)"
            ]
          },
          "metadata": {},
          "execution_count": 130
        }
      ]
    },
    {
      "cell_type": "code",
      "metadata": {
        "id": "G2NSkQQtx9he",
        "colab": {
          "base_uri": "https://localhost:8080/"
        },
        "outputId": "10caa6e5-65c6-420a-f531-464f825c934b"
      },
      "source": [
        "# Mengidentifikasi pencilan di atas batas dalam atas\n",
        "print('Di atas batas dalam atas:')\n",
        "df['NumOfProducts'][df['NumOfProducts'] > UIF]"
      ],
      "execution_count": null,
      "outputs": [
        {
          "output_type": "stream",
          "name": "stdout",
          "text": [
            "Di atas batas dalam atas:\n"
          ]
        },
        {
          "output_type": "execute_result",
          "data": {
            "text/plain": [
              "7       4\n",
              "70      4\n",
              "1254    4\n",
              "1469    4\n",
              "1488    4\n",
              "1701    4\n",
              "1876    4\n",
              "2124    4\n",
              "2196    4\n",
              "2285    4\n",
              "2462    4\n",
              "2499    4\n",
              "2509    4\n",
              "2541    4\n",
              "2614    4\n",
              "2617    4\n",
              "2872    4\n",
              "3152    4\n",
              "3365    4\n",
              "3841    4\n",
              "4013    4\n",
              "4014    4\n",
              "4166    4\n",
              "4260    4\n",
              "4403    4\n",
              "4511    4\n",
              "4516    4\n",
              "4606    4\n",
              "4654    4\n",
              "4748    4\n",
              "4822    4\n",
              "5010    4\n",
              "5137    4\n",
              "5235    4\n",
              "5386    4\n",
              "5700    4\n",
              "5904    4\n",
              "6150    4\n",
              "6172    4\n",
              "6279    4\n",
              "6750    4\n",
              "6875    4\n",
              "7257    4\n",
              "7457    4\n",
              "7567    4\n",
              "7698    4\n",
              "7724    4\n",
              "7729    4\n",
              "8041    4\n",
              "8590    4\n",
              "8683    4\n",
              "8850    4\n",
              "8923    4\n",
              "9215    4\n",
              "9255    4\n",
              "9323    4\n",
              "9370    4\n",
              "9411    4\n",
              "9540    4\n",
              "9565    4\n",
              "Name: NumOfProducts, dtype: int64"
            ]
          },
          "metadata": {},
          "execution_count": 131
        }
      ]
    },
    {
      "cell_type": "code",
      "metadata": {
        "id": "-yE0kD_jx9he",
        "colab": {
          "base_uri": "https://localhost:8080/"
        },
        "outputId": "5e298646-4f2b-44f0-ce3b-a51c99f5ff4f"
      },
      "source": [
        "# Mengidentifikasi pencilan di bawah batas dalam bawah\n",
        "print('Di bawah batas dalam bawah:')\n",
        "df['NumOfProducts'][df['NumOfProducts'] < LIF]"
      ],
      "execution_count": null,
      "outputs": [
        {
          "output_type": "stream",
          "name": "stdout",
          "text": [
            "Di bawah batas dalam bawah:\n"
          ]
        },
        {
          "output_type": "execute_result",
          "data": {
            "text/plain": [
              "Series([], Name: NumOfProducts, dtype: int64)"
            ]
          },
          "metadata": {},
          "execution_count": 132
        }
      ]
    },
    {
      "cell_type": "code",
      "metadata": {
        "id": "gFvlKg4Nx9he",
        "colab": {
          "base_uri": "https://localhost:8080/"
        },
        "outputId": "c39d9597-55b9-439e-8633-8e7f10214e47"
      },
      "source": [
        "# Mengidentifikasi pencilan di bawah batas luar bawah\n",
        "print('Di bawah batas luar bawah:')\n",
        "df['NumOfProducts'][df['NumOfProducts'] < LOF]"
      ],
      "execution_count": null,
      "outputs": [
        {
          "output_type": "stream",
          "name": "stdout",
          "text": [
            "Di bawah batas luar bawah:\n"
          ]
        },
        {
          "output_type": "execute_result",
          "data": {
            "text/plain": [
              "Series([], Name: NumOfProducts, dtype: int64)"
            ]
          },
          "metadata": {},
          "execution_count": 133
        }
      ]
    },
    {
      "cell_type": "code",
      "metadata": {
        "id": "WAA7EGWhx9hf",
        "colab": {
          "base_uri": "https://localhost:8080/"
        },
        "outputId": "7977ab87-a757-4686-b475-79a344433e7a"
      },
      "source": [
        "sns.boxplot(x=df['NumOfProducts']);"
      ],
      "execution_count": null,
      "outputs": [
        {
          "output_type": "display_data",
          "data": {
            "image/png": "[encoded data removed]",
            "text/plain": [
              "<Figure size 432x288 with 1 Axes>"
            ]
          },
          "metadata": {}
        }
      ]
    },
    {
      "cell_type": "markdown",
      "metadata": {
        "id": "FIRp4X_87SxL"
      },
      "source": [
        "### HasCrCard"
      ]
    },
    {
      "cell_type": "code",
      "metadata": {
        "id": "n8Eb2TB47WYN",
        "colab": {
          "base_uri": "https://localhost:8080/"
        },
        "outputId": "701e95d1-2f60-420f-ea88-4c9309b2f134"
      },
      "source": [
        "df['HasCrCard'].value_counts().rename_axis('HasCrCard').to_frame('Count').rename(index={0:'0 (No)', 1:'1 (Yes)'}).sort_values(by='HasCrCard')"
      ],
      "execution_count": null,
      "outputs": [
        {
          "output_type": "execute_result",
          "data": {
            "text/html": [
              "<div>\n",
              "<style scoped>\n",
              "    .dataframe tbody tr th:only-of-type {\n",
              "        vertical-align: middle;\n",
              "    }\n",
              "\n",
              "    .dataframe tbody tr th {\n",
              "        vertical-align: top;\n",
              "    }\n",
              "\n",
              "    .dataframe thead th {\n",
              "        text-align: right;\n",
              "    }\n",
              "</style>\n",
              "<table border=\"1\" class=\"dataframe\">\n",
              "  <thead>\n",
              "    <tr style=\"text-align: right;\">\n",
              "      <th></th>\n",
              "      <th>Count</th>\n",
              "    </tr>\n",
              "    <tr>\n",
              "      <th>HasCrCard</th>\n",
              "      <th></th>\n",
              "    </tr>\n",
              "  </thead>\n",
              "  <tbody>\n",
              "    <tr>\n",
              "      <th>0 (No)</th>\n",
              "      <td>2945</td>\n",
              "    </tr>\n",
              "    <tr>\n",
              "      <th>1 (Yes)</th>\n",
              "      <td>7055</td>\n",
              "    </tr>\n",
              "  </tbody>\n",
              "</table>\n",
              "</div>"
            ],
            "text/plain": [
              "           Count\n",
              "HasCrCard       \n",
              "0 (No)      2945\n",
              "1 (Yes)     7055"
            ]
          },
          "metadata": {},
          "execution_count": 135
        }
      ]
    },
    {
      "cell_type": "code",
      "metadata": {
        "id": "xvni-uQP7WYO",
        "colab": {
          "base_uri": "https://localhost:8080/"
        },
        "outputId": "4660e546-0e56-4856-a669-75ee9c8b6c4f"
      },
      "source": [
        "df['HasCrCard'].value_counts().plot.pie(explode=[0,0.1],labels=['Yes','No'],autopct='%.2f%%',shadow=True,figsize=(5,5));"
      ],
      "execution_count": null,
      "outputs": [
        {
          "output_type": "display_data",
          "data": {
            "image/png": "[encoded data removed]",
            "text/plain": [
              "<Figure size 360x360 with 1 Axes>"
            ]
          },
          "metadata": {}
        }
      ]
    },
    {
      "cell_type": "markdown",
      "metadata": {
        "id": "en9d6aIY7Mpl"
      },
      "source": [
        "### IsActiveMember"
      ]
    },
    {
      "cell_type": "code",
      "metadata": {
        "id": "-rDYfSuc8xKp",
        "colab": {
          "base_uri": "https://localhost:8080/"
        },
        "outputId": "c880d846-c9ca-463b-b71c-ebf8da8b80c3"
      },
      "source": [
        "df['IsActiveMember'].value_counts().rename_axis('IsActiveMember').to_frame('Count').rename(index={0:'0 (No)', 1:'1 (Yes)'}).sort_values(by='IsActiveMember')"
      ],
      "execution_count": null,
      "outputs": [
        {
          "output_type": "execute_result",
          "data": {
            "text/html": [
              "<div>\n",
              "<style scoped>\n",
              "    .dataframe tbody tr th:only-of-type {\n",
              "        vertical-align: middle;\n",
              "    }\n",
              "\n",
              "    .dataframe tbody tr th {\n",
              "        vertical-align: top;\n",
              "    }\n",
              "\n",
              "    .dataframe thead th {\n",
              "        text-align: right;\n",
              "    }\n",
              "</style>\n",
              "<table border=\"1\" class=\"dataframe\">\n",
              "  <thead>\n",
              "    <tr style=\"text-align: right;\">\n",
              "      <th></th>\n",
              "      <th>Count</th>\n",
              "    </tr>\n",
              "    <tr>\n",
              "      <th>IsActiveMember</th>\n",
              "      <th></th>\n",
              "    </tr>\n",
              "  </thead>\n",
              "  <tbody>\n",
              "    <tr>\n",
              "      <th>0 (No)</th>\n",
              "      <td>4849</td>\n",
              "    </tr>\n",
              "    <tr>\n",
              "      <th>1 (Yes)</th>\n",
              "      <td>5151</td>\n",
              "    </tr>\n",
              "  </tbody>\n",
              "</table>\n",
              "</div>"
            ],
            "text/plain": [
              "                Count\n",
              "IsActiveMember       \n",
              "0 (No)           4849\n",
              "1 (Yes)          5151"
            ]
          },
          "metadata": {},
          "execution_count": 137
        }
      ]
    },
    {
      "cell_type": "code",
      "metadata": {
        "id": "MIZfzU3X8xKq",
        "colab": {
          "base_uri": "https://localhost:8080/"
        },
        "outputId": "1ceec795-ae5c-4c86-ecd3-f7a24235523c"
      },
      "source": [
        "df['IsActiveMember'].value_counts().plot.pie(explode=[0,0.1],labels=['Yes','No'],autopct='%.2f%%',shadow=True,figsize=(5,5));"
      ],
      "execution_count": null,
      "outputs": [
        {
          "output_type": "display_data",
          "data": {
            "image/png": "[encoded data removed]",
            "text/plain": [
              "<Figure size 360x360 with 1 Axes>"
            ]
          },
          "metadata": {}
        }
      ]
    },
    {
      "cell_type": "markdown",
      "metadata": {
        "id": "HYd9DglgDfuP"
      },
      "source": [
        "### EstimatedSalary"
      ]
    },
    {
      "cell_type": "code",
      "metadata": {
        "id": "yno8qMbpDkAf",
        "colab": {
          "base_uri": "https://localhost:8080/"
        },
        "outputId": "832a0617-0ccb-431d-a4c7-3baea9937545"
      },
      "source": [
        "df[['EstimatedSalary']].describe()"
      ],
      "execution_count": null,
      "outputs": [
        {
          "output_type": "execute_result",
          "data": {
            "text/html": [
              "<div>\n",
              "<style scoped>\n",
              "    .dataframe tbody tr th:only-of-type {\n",
              "        vertical-align: middle;\n",
              "    }\n",
              "\n",
              "    .dataframe tbody tr th {\n",
              "        vertical-align: top;\n",
              "    }\n",
              "\n",
              "    .dataframe thead th {\n",
              "        text-align: right;\n",
              "    }\n",
              "</style>\n",
              "<table border=\"1\" class=\"dataframe\">\n",
              "  <thead>\n",
              "    <tr style=\"text-align: right;\">\n",
              "      <th></th>\n",
              "      <th>EstimatedSalary</th>\n",
              "    </tr>\n",
              "  </thead>\n",
              "  <tbody>\n",
              "    <tr>\n",
              "      <th>count</th>\n",
              "      <td>10000.000000</td>\n",
              "    </tr>\n",
              "    <tr>\n",
              "      <th>mean</th>\n",
              "      <td>100090.239881</td>\n",
              "    </tr>\n",
              "    <tr>\n",
              "      <th>std</th>\n",
              "      <td>57510.492818</td>\n",
              "    </tr>\n",
              "    <tr>\n",
              "      <th>min</th>\n",
              "      <td>11.580000</td>\n",
              "    </tr>\n",
              "    <tr>\n",
              "      <th>25%</th>\n",
              "      <td>51002.110000</td>\n",
              "    </tr>\n",
              "    <tr>\n",
              "      <th>50%</th>\n",
              "      <td>100193.915000</td>\n",
              "    </tr>\n",
              "    <tr>\n",
              "      <th>75%</th>\n",
              "      <td>149388.247500</td>\n",
              "    </tr>\n",
              "    <tr>\n",
              "      <th>max</th>\n",
              "      <td>199992.480000</td>\n",
              "    </tr>\n",
              "  </tbody>\n",
              "</table>\n",
              "</div>"
            ],
            "text/plain": [
              "       EstimatedSalary\n",
              "count     10000.000000\n",
              "mean     100090.239881\n",
              "std       57510.492818\n",
              "min          11.580000\n",
              "25%       51002.110000\n",
              "50%      100193.915000\n",
              "75%      149388.247500\n",
              "max      199992.480000"
            ]
          },
          "metadata": {},
          "execution_count": 139
        }
      ]
    },
    {
      "cell_type": "code",
      "metadata": {
        "id": "R4TZUxSiDkAg",
        "colab": {
          "base_uri": "https://localhost:8080/"
        },
        "outputId": "e27c35d6-ff48-4d8c-a4e1-0525f1a75dda"
      },
      "source": [
        "df[['EstimatedSalary']].mode().rename(index={0: 'Mode'})"
      ],
      "execution_count": null,
      "outputs": [
        {
          "output_type": "execute_result",
          "data": {
            "text/html": [
              "<div>\n",
              "<style scoped>\n",
              "    .dataframe tbody tr th:only-of-type {\n",
              "        vertical-align: middle;\n",
              "    }\n",
              "\n",
              "    .dataframe tbody tr th {\n",
              "        vertical-align: top;\n",
              "    }\n",
              "\n",
              "    .dataframe thead th {\n",
              "        text-align: right;\n",
              "    }\n",
              "</style>\n",
              "<table border=\"1\" class=\"dataframe\">\n",
              "  <thead>\n",
              "    <tr style=\"text-align: right;\">\n",
              "      <th></th>\n",
              "      <th>EstimatedSalary</th>\n",
              "    </tr>\n",
              "  </thead>\n",
              "  <tbody>\n",
              "    <tr>\n",
              "      <th>Mode</th>\n",
              "      <td>24924.92</td>\n",
              "    </tr>\n",
              "  </tbody>\n",
              "</table>\n",
              "</div>"
            ],
            "text/plain": [
              "      EstimatedSalary\n",
              "Mode         24924.92"
            ]
          },
          "metadata": {},
          "execution_count": 140
        }
      ]
    },
    {
      "cell_type": "code",
      "metadata": {
        "id": "jPDgpaEHDkAg",
        "colab": {
          "base_uri": "https://localhost:8080/"
        },
        "outputId": "2b089c43-771c-4efd-9226-d3119c0085e9"
      },
      "source": [
        "sns.histplot(df['EstimatedSalary'],bins=50,kde='True');"
      ],
      "execution_count": null,
      "outputs": [
        {
          "output_type": "display_data",
          "data": {
            "image/png": "[encoded data removed]",
            "text/plain": [
              "<Figure size 432x288 with 1 Axes>"
            ]
          },
          "metadata": {}
        }
      ]
    },
    {
      "cell_type": "code",
      "metadata": {
        "id": "cdU_iBTwDkAh",
        "colab": {
          "base_uri": "https://localhost:8080/"
        },
        "outputId": "3842cf04-93d6-46c3-f555-e08080019531"
      },
      "source": [
        "# Menghitung rentang antar kuartil serta batas-batas pencilan\n",
        "Q1 = df['EstimatedSalary'].quantile(q = 0.25)\n",
        "Q3 = df['EstimatedSalary'].quantile(q = 0.75)\n",
        "IQR = Q3 - Q1\n",
        "UIF = Q3 + 1.5 * IQR\n",
        "LIF = Q1 - 1.5 * IQR\n",
        "UOF = Q3 + 3 * IQR\n",
        "LOF = Q1 - 3 * IQR\n",
        "print('Rentang antar kuartil: ', IQR)\n",
        "print('Batas luar atas: ', UOF)\n",
        "print('Batas dalam atas: ', UIF)\n",
        "print('Batas dalam bawah: ', LIF)\n",
        "print('Batas luar bawah: ', LOF)"
      ],
      "execution_count": null,
      "outputs": [
        {
          "output_type": "stream",
          "name": "stdout",
          "text": [
            "Rentang antar kuartil:  98386.1375\n",
            "Batas luar atas:  444546.66\n",
            "Batas dalam atas:  296967.45375\n",
            "Batas dalam bawah:  -96577.09624999999\n",
            "Batas luar bawah:  -244156.3025\n"
          ]
        }
      ]
    },
    {
      "cell_type": "code",
      "metadata": {
        "id": "QNfRHrnVDkAh",
        "colab": {
          "base_uri": "https://localhost:8080/"
        },
        "outputId": "e1ce2b15-3f23-44fb-8c30-b1e93f823b4e"
      },
      "source": [
        "# Mengidentifikasi pencilan di atas batas luar atas\n",
        "print('Di atas batas luar atas:')\n",
        "df['EstimatedSalary'][df['EstimatedSalary'] > UOF]"
      ],
      "execution_count": null,
      "outputs": [
        {
          "output_type": "stream",
          "name": "stdout",
          "text": [
            "Di atas batas luar atas:\n"
          ]
        },
        {
          "output_type": "execute_result",
          "data": {
            "text/plain": [
              "Series([], Name: EstimatedSalary, dtype: float64)"
            ]
          },
          "metadata": {},
          "execution_count": 143
        }
      ]
    },
    {
      "cell_type": "code",
      "metadata": {
        "id": "LIXlTQEKDkAh",
        "colab": {
          "base_uri": "https://localhost:8080/"
        },
        "outputId": "70121390-c011-4cf5-90d0-a3ffcc381df2"
      },
      "source": [
        "# Mengidentifikasi pencilan di atas batas dalam atas\n",
        "print('Di atas batas dalam atas:')\n",
        "df['EstimatedSalary'][df['EstimatedSalary'] > UIF]"
      ],
      "execution_count": null,
      "outputs": [
        {
          "output_type": "stream",
          "name": "stdout",
          "text": [
            "Di atas batas dalam atas:\n"
          ]
        },
        {
          "output_type": "execute_result",
          "data": {
            "text/plain": [
              "Series([], Name: EstimatedSalary, dtype: float64)"
            ]
          },
          "metadata": {},
          "execution_count": 144
        }
      ]
    },
    {
      "cell_type": "code",
      "metadata": {
        "id": "0omdQQ4xDkAh",
        "colab": {
          "base_uri": "https://localhost:8080/"
        },
        "outputId": "5d094bda-39ea-4c7b-d541-8d3cd2ddd24f"
      },
      "source": [
        "# Mengidentifikasi pencilan di bawah batas dalam bawah\n",
        "print('Di bawah batas dalam bawah:')\n",
        "df['EstimatedSalary'][df['EstimatedSalary'] < LIF]"
      ],
      "execution_count": null,
      "outputs": [
        {
          "output_type": "stream",
          "name": "stdout",
          "text": [
            "Di bawah batas dalam bawah:\n"
          ]
        },
        {
          "output_type": "execute_result",
          "data": {
            "text/plain": [
              "Series([], Name: EstimatedSalary, dtype: float64)"
            ]
          },
          "metadata": {},
          "execution_count": 145
        }
      ]
    },
    {
      "cell_type": "code",
      "metadata": {
        "id": "hxjm-AHBDkAi",
        "colab": {
          "base_uri": "https://localhost:8080/"
        },
        "outputId": "03419488-27e4-4abb-8b6a-e9994b664581"
      },
      "source": [
        "# Mengidentifikasi pencilan di bawah batas luar bawah\n",
        "print('Di bawah batas luar bawah:')\n",
        "df['EstimatedSalary'][df['EstimatedSalary'] < LOF]"
      ],
      "execution_count": null,
      "outputs": [
        {
          "output_type": "stream",
          "name": "stdout",
          "text": [
            "Di bawah batas luar bawah:\n"
          ]
        },
        {
          "output_type": "execute_result",
          "data": {
            "text/plain": [
              "Series([], Name: EstimatedSalary, dtype: float64)"
            ]
          },
          "metadata": {},
          "execution_count": 146
        }
      ]
    },
    {
      "cell_type": "code",
      "metadata": {
        "id": "FoPi0P_jDkAi",
        "colab": {
          "base_uri": "https://localhost:8080/"
        },
        "outputId": "ec4c554f-2222-44b0-9bd2-5197cf7f9e07"
      },
      "source": [
        "sns.boxplot(x=df['EstimatedSalary']);"
      ],
      "execution_count": null,
      "outputs": [
        {
          "output_type": "display_data",
          "data": {
            "image/png": "[encoded data removed]",
            "text/plain": [
              "<Figure size 432x288 with 1 Axes>"
            ]
          },
          "metadata": {}
        }
      ]
    },
    {
      "cell_type": "markdown",
      "metadata": {
        "id": "90LDzzntFa7h"
      },
      "source": [
        "### Exited"
      ]
    },
    {
      "cell_type": "code",
      "metadata": {
        "id": "t8BNm-UzFu0I",
        "colab": {
          "base_uri": "https://localhost:8080/"
        },
        "outputId": "e2a6fd34-5932-411b-842a-2c38955156a2"
      },
      "source": [
        "df['Exited'].value_counts().rename_axis('Exited').to_frame('Count').rename(index={0:'0 (No)', 1:'1 (Yes)'}).sort_values(by='Exited')"
      ],
      "execution_count": null,
      "outputs": [
        {
          "output_type": "execute_result",
          "data": {
            "text/html": [
              "<div>\n",
              "<style scoped>\n",
              "    .dataframe tbody tr th:only-of-type {\n",
              "        vertical-align: middle;\n",
              "    }\n",
              "\n",
              "    .dataframe tbody tr th {\n",
              "        vertical-align: top;\n",
              "    }\n",
              "\n",
              "    .dataframe thead th {\n",
              "        text-align: right;\n",
              "    }\n",
              "</style>\n",
              "<table border=\"1\" class=\"dataframe\">\n",
              "  <thead>\n",
              "    <tr style=\"text-align: right;\">\n",
              "      <th></th>\n",
              "      <th>Count</th>\n",
              "    </tr>\n",
              "    <tr>\n",
              "      <th>Exited</th>\n",
              "      <th></th>\n",
              "    </tr>\n",
              "  </thead>\n",
              "  <tbody>\n",
              "    <tr>\n",
              "      <th>0 (No)</th>\n",
              "      <td>7963</td>\n",
              "    </tr>\n",
              "    <tr>\n",
              "      <th>1 (Yes)</th>\n",
              "      <td>2037</td>\n",
              "    </tr>\n",
              "  </tbody>\n",
              "</table>\n",
              "</div>"
            ],
            "text/plain": [
              "         Count\n",
              "Exited        \n",
              "0 (No)    7963\n",
              "1 (Yes)   2037"
            ]
          },
          "metadata": {},
          "execution_count": 148
        }
      ]
    },
    {
      "cell_type": "code",
      "metadata": {
        "id": "LTWzGx7fFu0K",
        "colab": {
          "base_uri": "https://localhost:8080/"
        },
        "outputId": "890af358-dc48-44b1-f892-cbe33f880efd"
      },
      "source": [
        "df['Exited'].value_counts().plot.pie(explode=[0,0.1],labels=['No','Yes'],autopct='%.2f%%',shadow=True,figsize=(5,5));"
      ],
      "execution_count": null,
      "outputs": [
        {
          "output_type": "display_data",
          "data": {
            "image/png": "[encoded data removed]",
            "text/plain": [
              "<Figure size 360x360 with 1 Axes>"
            ]
          },
          "metadata": {}
        }
      ]
    },
    {
      "cell_type": "markdown",
      "metadata": {
        "id": "PL-7mkQ04cAO"
      },
      "source": [
        "## Bivariate Analysis"
      ]
    },
    {
      "cell_type": "markdown",
      "metadata": {
        "id": "0XFiO5by-xZ4"
      },
      "source": [
        "### CreditScore, Exited"
      ]
    },
    {
      "cell_type": "code",
      "metadata": {
        "id": "PjyQwsrx-wfv",
        "colab": {
          "base_uri": "https://localhost:8080/"
        },
        "outputId": "5a8319a5-4b35-426c-847a-810e6fa1e8b8"
      },
      "source": [
        "df[df.Exited == 0]['CreditScore'].hist(bins=20, alpha=0.5);\n",
        "df[df.Exited == 1]['CreditScore'].hist(bins=20, alpha=0.5);\n",
        "plt.legend(labels=['No', 'Yes'], loc='upper left');\n",
        "plt.title('Perbandingan Credit Score dan Exited');"
      ],
      "execution_count": null,
      "outputs": [
        {
          "output_type": "display_data",
          "data": {
            "image/png": "[encoded data removed]",
            "text/plain": [
              "<Figure size 432x288 with 1 Axes>"
            ]
          },
          "metadata": {}
        }
      ]
    },
    {
      "cell_type": "markdown",
      "metadata": {
        "id": "Jk9ihr1X-4KL"
      },
      "source": [
        "### Geography, Exited"
      ]
    },
    {
      "cell_type": "code",
      "metadata": {
        "id": "kMmY0tbn-8Wa",
        "colab": {
          "base_uri": "https://localhost:8080/"
        },
        "outputId": "728e7a15-6a04-4ae8-e1bb-c611167a13fe"
      },
      "source": [
        "sns.countplot(data=df, x='Geography', hue='Exited');\n",
        "plt.legend(labels=['No', 'Yes'], loc='upper right');\n",
        "plt.title('Perbandingan Geography dan Exited');"
      ],
      "execution_count": null,
      "outputs": [
        {
          "output_type": "display_data",
          "data": {
            "image/png": "[encoded data removed]",
            "text/plain": [
              "<Figure size 432x288 with 1 Axes>"
            ]
          },
          "metadata": {}
        }
      ]
    },
    {
      "cell_type": "markdown",
      "metadata": {
        "id": "LyACq03e-7qf"
      },
      "source": [
        "### Gender, Exited"
      ]
    },
    {
      "cell_type": "code",
      "metadata": {
        "id": "hxGTfMUn_MYH",
        "colab": {
          "base_uri": "https://localhost:8080/"
        },
        "outputId": "43b7346e-a076-435a-fcfd-cdd61ef1faaa"
      },
      "source": [
        "sns.countplot(data=df, x='Gender', hue='Exited');\n",
        "plt.legend(labels=['No', 'Yes'], loc='upper left');\n",
        "plt.title('Perbandingan Gender dan Exited');"
      ],
      "execution_count": null,
      "outputs": [
        {
          "output_type": "display_data",
          "data": {
            "image/png": "[encoded data removed]",
            "text/plain": [
              "<Figure size 432x288 with 1 Axes>"
            ]
          },
          "metadata": {}
        }
      ]
    },
    {
      "cell_type": "markdown",
      "metadata": {
        "id": "o2dQMnez_QXj"
      },
      "source": [
        "### Age, Exited"
      ]
    },
    {
      "cell_type": "code",
      "metadata": {
        "id": "IO7iSDyF_V5x",
        "colab": {
          "base_uri": "https://localhost:8080/"
        },
        "outputId": "a3b862aa-886d-459f-abe7-63eed4414cad"
      },
      "source": [
        "df[df.Exited == 0]['Age'].hist(bins=20, alpha=0.5);\n",
        "df[df.Exited == 1]['Age'].hist(bins=20, alpha=0.5);\n",
        "plt.legend(labels=['No', 'Yes'], loc='upper right');\n",
        "plt.title('Perbandingan Age dan Exited');"
      ],
      "execution_count": null,
      "outputs": [
        {
          "output_type": "display_data",
          "data": {
            "image/png": "[encoded data removed]",
            "text/plain": [
              "<Figure size 432x288 with 1 Axes>"
            ]
          },
          "metadata": {}
        }
      ]
    },
    {
      "cell_type": "markdown",
      "metadata": {
        "id": "Dg1lSGIE_Wx4"
      },
      "source": [
        "### Tenure, Exited"
      ]
    },
    {
      "cell_type": "code",
      "metadata": {
        "id": "Jx4QFTJ0_aUb",
        "colab": {
          "base_uri": "https://localhost:8080/"
        },
        "outputId": "5e7738ce-cc58-44c2-d37f-e1be3960d283"
      },
      "source": [
        "sns.countplot(data=df, x='Tenure', hue='Exited');\n",
        "plt.legend(labels=['No', 'Yes'], loc='upper right');\n",
        "plt.title('Perbandingan Tenure dan Exited');"
      ],
      "execution_count": null,
      "outputs": [
        {
          "output_type": "display_data",
          "data": {
            "image/png": "[encoded data removed]",
            "text/plain": [
              "<Figure size 432x288 with 1 Axes>"
            ]
          },
          "metadata": {}
        }
      ]
    },
    {
      "cell_type": "markdown",
      "metadata": {
        "id": "WZ5loj9Z_a-d"
      },
      "source": [
        "### Balance, Exited"
      ]
    },
    {
      "cell_type": "code",
      "metadata": {
        "id": "Tz5hu2-i_f3O",
        "colab": {
          "base_uri": "https://localhost:8080/"
        },
        "outputId": "3d2b07d6-1c03-4cf7-c48e-e1da68901eb7"
      },
      "source": [
        "df[df.Exited == 0]['Balance'].hist(bins=20, alpha=0.5);\n",
        "df[df.Exited == 1]['Balance'].hist(bins=20, alpha=0.5);\n",
        "plt.legend(labels=['No', 'Yes'], loc='upper right');\n",
        "plt.title('Perbandingan Balance dan Exited');"
      ],
      "execution_count": null,
      "outputs": [
        {
          "output_type": "display_data",
          "data": {
            "image/png": "[encoded data removed]",
            "text/plain": [
              "<Figure size 432x288 with 1 Axes>"
            ]
          },
          "metadata": {}
        }
      ]
    },
    {
      "cell_type": "markdown",
      "metadata": {
        "id": "L81m8Fo3980g"
      },
      "source": [
        "### NumOfProducts, Exited"
      ]
    },
    {
      "cell_type": "code",
      "metadata": {
        "id": "NnBMunE84fXZ",
        "colab": {
          "base_uri": "https://localhost:8080/"
        },
        "outputId": "6e29e47b-7cc4-4529-995d-d268d9614c31"
      },
      "source": [
        "sns.countplot(data=df, x='NumOfProducts', hue='Exited');\n",
        "plt.legend(labels=['No', 'Yes'], loc='upper right');\n",
        "plt.title('Perbandingan NumOfProducts dan Exited');"
      ],
      "execution_count": null,
      "outputs": [
        {
          "output_type": "display_data",
          "data": {
            "image/png": "[encoded data removed]",
            "text/plain": [
              "<Figure size 432x288 with 1 Axes>"
            ]
          },
          "metadata": {}
        }
      ]
    },
    {
      "cell_type": "markdown",
      "metadata": {
        "id": "gWnuVa8t-GUm"
      },
      "source": [
        "### HasCrCard, Exited"
      ]
    },
    {
      "cell_type": "code",
      "metadata": {
        "id": "TyNhYZK_5IlG",
        "colab": {
          "base_uri": "https://localhost:8080/"
        },
        "outputId": "1440ea3d-87dc-4c75-b980-2f22f3255f23"
      },
      "source": [
        "sns.countplot(data=df, x='HasCrCard', hue='Exited');\n",
        "plt.legend(labels=['No', 'Yes'], loc='upper left');\n",
        "plt.title('Perbandingan HasCrCard dan Exited');"
      ],
      "execution_count": null,
      "outputs": [
        {
          "output_type": "display_data",
          "data": {
            "image/png": "[encoded data removed]",
            "text/plain": [
              "<Figure size 432x288 with 1 Axes>"
            ]
          },
          "metadata": {}
        }
      ]
    },
    {
      "cell_type": "markdown",
      "metadata": {
        "id": "Z6aJBiTT-K6h"
      },
      "source": [
        "### IsActiveMember, Exited"
      ]
    },
    {
      "cell_type": "code",
      "metadata": {
        "id": "GR49oF3w5dCi",
        "colab": {
          "base_uri": "https://localhost:8080/"
        },
        "outputId": "81d0661f-678e-4134-ae1c-31d17771d4f1"
      },
      "source": [
        "sns.countplot(data=df, x='IsActiveMember', hue='Exited');\n",
        "plt.legend(labels=['No', 'Yes'], loc='upper left');\n",
        "plt.title('Perbandingan IsActiveMember dan Exited');"
      ],
      "execution_count": null,
      "outputs": [
        {
          "output_type": "display_data",
          "data": {
            "image/png": "[encoded data removed]",
            "text/plain": [
              "<Figure size 432x288 with 1 Axes>"
            ]
          },
          "metadata": {}
        }
      ]
    },
    {
      "cell_type": "markdown",
      "metadata": {
        "id": "GeXF9aoi-SGR"
      },
      "source": [
        "### EstimatedSalary, Exited"
      ]
    },
    {
      "cell_type": "code",
      "metadata": {
        "id": "eNpf4HNH55pM",
        "colab": {
          "base_uri": "https://localhost:8080/"
        },
        "outputId": "01ceef7f-1887-4e05-9167-a324ec75ca63"
      },
      "source": [
        "df[df.Exited == 0]['EstimatedSalary'].hist(bins=20, alpha=0.5);\n",
        "df[df.Exited == 1]['EstimatedSalary'].hist(bins=20, alpha=0.5);\n",
        "plt.legend(labels=['No', 'Yes'], loc='upper right');\n",
        "plt.title('Perbandingan EstimatedSalary dan Exited');"
      ],
      "execution_count": null,
      "outputs": [
        {
          "output_type": "display_data",
          "data": {
            "image/png": "[encoded data removed]",
            "text/plain": [
              "<Figure size 432x288 with 1 Axes>"
            ]
          },
          "metadata": {}
        }
      ]
    },
    {
      "cell_type": "markdown",
      "metadata": {
        "id": "GFuZhosO4hxL"
      },
      "source": [
        "## Correlation Coefficient"
      ]
    },
    {
      "cell_type": "markdown",
      "metadata": {
        "id": "x_BVULGggYwc"
      },
      "source": [
        "### Spearman"
      ]
    },
    {
      "cell_type": "code",
      "metadata": {
        "id": "Sk7QVLkNwOYi",
        "colab": {
          "base_uri": "https://localhost:8080/",
          "height": 775
        },
        "outputId": "fff20f00-1ea7-40d7-9e63-17b09a7dbf94"
      },
      "source": [
        "plt.subplots(figsize=(16,12))\n",
        "sns.heatmap(df.corr(method = 'spearman'), annot=True, annot_kws={\"size\":12}, fmt='.2f', vmin=-1, vmax=1, center=0, cmap=sns.diverging_palette(20, 220, n=200), square=True);"
      ],
      "execution_count": null,
      "outputs": [
        {
          "output_type": "display_data",
          "data": {
            "image/png": "[encoded data removed]",
            "text/plain": [
              "<Figure size 1152x864 with 2 Axes>"
            ]
          },
          "metadata": {}
        }
      ]
    },
    {
      "cell_type": "markdown",
      "metadata": {
        "id": "bo3jjgxPgNrI"
      },
      "source": [
        "# Data Preprocessing"
      ]
    },
    {
      "cell_type": "markdown",
      "metadata": {
        "id": "4nc53JnaK8jV"
      },
      "source": [
        "## Handling Missing Values"
      ]
    },
    {
      "cell_type": "code",
      "metadata": {
        "id": "-0ZlLDOczAhW",
        "colab": {
          "base_uri": "https://localhost:8080/"
        },
        "outputId": "bfd187eb-fe1c-4751-967f-23cebc343ec9"
      },
      "source": [
        "# Melakukan pengecekan missing values\n",
        "print(df.isnull().sum())"
      ],
      "execution_count": null,
      "outputs": [
        {
          "output_type": "stream",
          "name": "stdout",
          "text": [
            "RowNumber          0\n",
            "CustomerId         0\n",
            "Surname            0\n",
            "CreditScore        0\n",
            "Geography          0\n",
            "Gender             0\n",
            "Age                0\n",
            "Tenure             0\n",
            "Balance            0\n",
            "NumOfProducts      0\n",
            "HasCrCard          0\n",
            "IsActiveMember     0\n",
            "EstimatedSalary    0\n",
            "Exited             0\n",
            "dtype: int64\n"
          ]
        }
      ]
    },
    {
      "cell_type": "markdown",
      "metadata": {
        "id": "q4TkPMMVq2xt"
      },
      "source": [
        "## Handling Duplicate Values"
      ]
    },
    {
      "cell_type": "code",
      "metadata": {
        "id": "SpRNoYU9ftS3",
        "colab": {
          "base_uri": "https://localhost:8080/"
        },
        "outputId": "b389654f-a077-460a-96f2-19355a0a824d"
      },
      "source": [
        "# Melakukan pengecekan duplicate values\n",
        "print(df.duplicated().sum())"
      ],
      "execution_count": null,
      "outputs": [
        {
          "output_type": "stream",
          "name": "stdout",
          "text": [
            "0\n"
          ]
        }
      ]
    },
    {
      "cell_type": "markdown",
      "metadata": {
        "id": "05jQn9MKrCqw"
      },
      "source": [
        "## Remove Unnecessary Columns"
      ]
    },
    {
      "cell_type": "code",
      "metadata": {
        "id": "-8KKfbadij2c",
        "colab": {
          "base_uri": "https://localhost:8080/"
        },
        "outputId": "01b13534-09e3-4f44-ad68-716c3f766f41"
      },
      "source": [
        "# Menghapus kolom RowNumber, CustomerId, dan Surname karena tidak dibutuhkan\n",
        "df = df.drop(['RowNumber','CustomerId','Surname'], 1)\n",
        "df"
      ],
      "execution_count": null,
      "outputs": [
        {
          "output_type": "execute_result",
          "data": {
            "text/html": [
              "<div>\n",
              "<style scoped>\n",
              "    .dataframe tbody tr th:only-of-type {\n",
              "        vertical-align: middle;\n",
              "    }\n",
              "\n",
              "    .dataframe tbody tr th {\n",
              "        vertical-align: top;\n",
              "    }\n",
              "\n",
              "    .dataframe thead th {\n",
              "        text-align: right;\n",
              "    }\n",
              "</style>\n",
              "<table border=\"1\" class=\"dataframe\">\n",
              "  <thead>\n",
              "    <tr style=\"text-align: right;\">\n",
              "      <th></th>\n",
              "      <th>CreditScore</th>\n",
              "      <th>Geography</th>\n",
              "      <th>Gender</th>\n",
              "      <th>Age</th>\n",
              "      <th>Tenure</th>\n",
              "      <th>Balance</th>\n",
              "      <th>NumOfProducts</th>\n",
              "      <th>HasCrCard</th>\n",
              "      <th>IsActiveMember</th>\n",
              "      <th>EstimatedSalary</th>\n",
              "      <th>Exited</th>\n",
              "    </tr>\n",
              "  </thead>\n",
              "  <tbody>\n",
              "    <tr>\n",
              "      <th>0</th>\n",
              "      <td>619</td>\n",
              "      <td>France</td>\n",
              "      <td>Female</td>\n",
              "      <td>42</td>\n",
              "      <td>2</td>\n",
              "      <td>0.00</td>\n",
              "      <td>1</td>\n",
              "      <td>1</td>\n",
              "      <td>1</td>\n",
              "      <td>101348.88</td>\n",
              "      <td>1</td>\n",
              "    </tr>\n",
              "    <tr>\n",
              "      <th>1</th>\n",
              "      <td>608</td>\n",
              "      <td>Spain</td>\n",
              "      <td>Female</td>\n",
              "      <td>41</td>\n",
              "      <td>1</td>\n",
              "      <td>83807.86</td>\n",
              "      <td>1</td>\n",
              "      <td>0</td>\n",
              "      <td>1</td>\n",
              "      <td>112542.58</td>\n",
              "      <td>0</td>\n",
              "    </tr>\n",
              "    <tr>\n",
              "      <th>2</th>\n",
              "      <td>502</td>\n",
              "      <td>France</td>\n",
              "      <td>Female</td>\n",
              "      <td>42</td>\n",
              "      <td>8</td>\n",
              "      <td>159660.80</td>\n",
              "      <td>3</td>\n",
              "      <td>1</td>\n",
              "      <td>0</td>\n",
              "      <td>113931.57</td>\n",
              "      <td>1</td>\n",
              "    </tr>\n",
              "    <tr>\n",
              "      <th>3</th>\n",
              "      <td>699</td>\n",
              "      <td>France</td>\n",
              "      <td>Female</td>\n",
              "      <td>39</td>\n",
              "      <td>1</td>\n",
              "      <td>0.00</td>\n",
              "      <td>2</td>\n",
              "      <td>0</td>\n",
              "      <td>0</td>\n",
              "      <td>93826.63</td>\n",
              "      <td>0</td>\n",
              "    </tr>\n",
              "    <tr>\n",
              "      <th>4</th>\n",
              "      <td>850</td>\n",
              "      <td>Spain</td>\n",
              "      <td>Female</td>\n",
              "      <td>43</td>\n",
              "      <td>2</td>\n",
              "      <td>125510.82</td>\n",
              "      <td>1</td>\n",
              "      <td>1</td>\n",
              "      <td>1</td>\n",
              "      <td>79084.10</td>\n",
              "      <td>0</td>\n",
              "    </tr>\n",
              "    <tr>\n",
              "      <th>...</th>\n",
              "      <td>...</td>\n",
              "      <td>...</td>\n",
              "      <td>...</td>\n",
              "      <td>...</td>\n",
              "      <td>...</td>\n",
              "      <td>...</td>\n",
              "      <td>...</td>\n",
              "      <td>...</td>\n",
              "      <td>...</td>\n",
              "      <td>...</td>\n",
              "      <td>...</td>\n",
              "    </tr>\n",
              "    <tr>\n",
              "      <th>9995</th>\n",
              "      <td>771</td>\n",
              "      <td>France</td>\n",
              "      <td>Male</td>\n",
              "      <td>39</td>\n",
              "      <td>5</td>\n",
              "      <td>0.00</td>\n",
              "      <td>2</td>\n",
              "      <td>1</td>\n",
              "      <td>0</td>\n",
              "      <td>96270.64</td>\n",
              "      <td>0</td>\n",
              "    </tr>\n",
              "    <tr>\n",
              "      <th>9996</th>\n",
              "      <td>516</td>\n",
              "      <td>France</td>\n",
              "      <td>Male</td>\n",
              "      <td>35</td>\n",
              "      <td>10</td>\n",
              "      <td>57369.61</td>\n",
              "      <td>1</td>\n",
              "      <td>1</td>\n",
              "      <td>1</td>\n",
              "      <td>101699.77</td>\n",
              "      <td>0</td>\n",
              "    </tr>\n",
              "    <tr>\n",
              "      <th>9997</th>\n",
              "      <td>709</td>\n",
              "      <td>France</td>\n",
              "      <td>Female</td>\n",
              "      <td>36</td>\n",
              "      <td>7</td>\n",
              "      <td>0.00</td>\n",
              "      <td>1</td>\n",
              "      <td>0</td>\n",
              "      <td>1</td>\n",
              "      <td>42085.58</td>\n",
              "      <td>1</td>\n",
              "    </tr>\n",
              "    <tr>\n",
              "      <th>9998</th>\n",
              "      <td>772</td>\n",
              "      <td>Germany</td>\n",
              "      <td>Male</td>\n",
              "      <td>42</td>\n",
              "      <td>3</td>\n",
              "      <td>75075.31</td>\n",
              "      <td>2</td>\n",
              "      <td>1</td>\n",
              "      <td>0</td>\n",
              "      <td>92888.52</td>\n",
              "      <td>1</td>\n",
              "    </tr>\n",
              "    <tr>\n",
              "      <th>9999</th>\n",
              "      <td>792</td>\n",
              "      <td>France</td>\n",
              "      <td>Female</td>\n",
              "      <td>28</td>\n",
              "      <td>4</td>\n",
              "      <td>130142.79</td>\n",
              "      <td>1</td>\n",
              "      <td>1</td>\n",
              "      <td>0</td>\n",
              "      <td>38190.78</td>\n",
              "      <td>0</td>\n",
              "    </tr>\n",
              "  </tbody>\n",
              "</table>\n",
              "<p>10000 rows × 11 columns</p>\n",
              "</div>"
            ],
            "text/plain": [
              "      CreditScore Geography  Gender  ...  IsActiveMember  EstimatedSalary  Exited\n",
              "0             619    France  Female  ...               1        101348.88       1\n",
              "1             608     Spain  Female  ...               1        112542.58       0\n",
              "2             502    France  Female  ...               0        113931.57       1\n",
              "3             699    France  Female  ...               0         93826.63       0\n",
              "4             850     Spain  Female  ...               1         79084.10       0\n",
              "...           ...       ...     ...  ...             ...              ...     ...\n",
              "9995          771    France    Male  ...               0         96270.64       0\n",
              "9996          516    France    Male  ...               1        101699.77       0\n",
              "9997          709    France  Female  ...               1         42085.58       1\n",
              "9998          772   Germany    Male  ...               0         92888.52       1\n",
              "9999          792    France  Female  ...               0         38190.78       0\n",
              "\n",
              "[10000 rows x 11 columns]"
            ]
          },
          "metadata": {},
          "execution_count": 163
        }
      ]
    },
    {
      "cell_type": "markdown",
      "metadata": {
        "id": "D-q6_rRhDCIL"
      },
      "source": [
        "## Encoding Categorical Features"
      ]
    },
    {
      "cell_type": "code",
      "metadata": {
        "id": "JOE7j21nEm4z",
        "colab": {
          "base_uri": "https://localhost:8080/"
        },
        "outputId": "d6cd0b39-28b6-457e-d7aa-73c9a42ba82e"
      },
      "source": [
        "# Mengubah feature kategorikal, Geography, menjadi numerikal (one hot encoding)\n",
        "df[['France','Spain','Germany']] = pd.get_dummies(df['Geography'])\n",
        "df = df.drop('Geography', 1)\n",
        "df"
      ],
      "execution_count": null,
      "outputs": [
        {
          "output_type": "execute_result",
          "data": {
            "text/html": [
              "<div>\n",
              "<style scoped>\n",
              "    .dataframe tbody tr th:only-of-type {\n",
              "        vertical-align: middle;\n",
              "    }\n",
              "\n",
              "    .dataframe tbody tr th {\n",
              "        vertical-align: top;\n",
              "    }\n",
              "\n",
              "    .dataframe thead th {\n",
              "        text-align: right;\n",
              "    }\n",
              "</style>\n",
              "<table border=\"1\" class=\"dataframe\">\n",
              "  <thead>\n",
              "    <tr style=\"text-align: right;\">\n",
              "      <th></th>\n",
              "      <th>CreditScore</th>\n",
              "      <th>Gender</th>\n",
              "      <th>Age</th>\n",
              "      <th>Tenure</th>\n",
              "      <th>Balance</th>\n",
              "      <th>NumOfProducts</th>\n",
              "      <th>HasCrCard</th>\n",
              "      <th>IsActiveMember</th>\n",
              "      <th>EstimatedSalary</th>\n",
              "      <th>Exited</th>\n",
              "      <th>France</th>\n",
              "      <th>Spain</th>\n",
              "      <th>Germany</th>\n",
              "    </tr>\n",
              "  </thead>\n",
              "  <tbody>\n",
              "    <tr>\n",
              "      <th>0</th>\n",
              "      <td>619</td>\n",
              "      <td>Female</td>\n",
              "      <td>42</td>\n",
              "      <td>2</td>\n",
              "      <td>0.00</td>\n",
              "      <td>1</td>\n",
              "      <td>1</td>\n",
              "      <td>1</td>\n",
              "      <td>101348.88</td>\n",
              "      <td>1</td>\n",
              "      <td>1</td>\n",
              "      <td>0</td>\n",
              "      <td>0</td>\n",
              "    </tr>\n",
              "    <tr>\n",
              "      <th>1</th>\n",
              "      <td>608</td>\n",
              "      <td>Female</td>\n",
              "      <td>41</td>\n",
              "      <td>1</td>\n",
              "      <td>83807.86</td>\n",
              "      <td>1</td>\n",
              "      <td>0</td>\n",
              "      <td>1</td>\n",
              "      <td>112542.58</td>\n",
              "      <td>0</td>\n",
              "      <td>0</td>\n",
              "      <td>0</td>\n",
              "      <td>1</td>\n",
              "    </tr>\n",
              "    <tr>\n",
              "      <th>2</th>\n",
              "      <td>502</td>\n",
              "      <td>Female</td>\n",
              "      <td>42</td>\n",
              "      <td>8</td>\n",
              "      <td>159660.80</td>\n",
              "      <td>3</td>\n",
              "      <td>1</td>\n",
              "      <td>0</td>\n",
              "      <td>113931.57</td>\n",
              "      <td>1</td>\n",
              "      <td>1</td>\n",
              "      <td>0</td>\n",
              "      <td>0</td>\n",
              "    </tr>\n",
              "    <tr>\n",
              "      <th>3</th>\n",
              "      <td>699</td>\n",
              "      <td>Female</td>\n",
              "      <td>39</td>\n",
              "      <td>1</td>\n",
              "      <td>0.00</td>\n",
              "      <td>2</td>\n",
              "      <td>0</td>\n",
              "      <td>0</td>\n",
              "      <td>93826.63</td>\n",
              "      <td>0</td>\n",
              "      <td>1</td>\n",
              "      <td>0</td>\n",
              "      <td>0</td>\n",
              "    </tr>\n",
              "    <tr>\n",
              "      <th>4</th>\n",
              "      <td>850</td>\n",
              "      <td>Female</td>\n",
              "      <td>43</td>\n",
              "      <td>2</td>\n",
              "      <td>125510.82</td>\n",
              "      <td>1</td>\n",
              "      <td>1</td>\n",
              "      <td>1</td>\n",
              "      <td>79084.10</td>\n",
              "      <td>0</td>\n",
              "      <td>0</td>\n",
              "      <td>0</td>\n",
              "      <td>1</td>\n",
              "    </tr>\n",
              "    <tr>\n",
              "      <th>...</th>\n",
              "      <td>...</td>\n",
              "      <td>...</td>\n",
              "      <td>...</td>\n",
              "      <td>...</td>\n",
              "      <td>...</td>\n",
              "      <td>...</td>\n",
              "      <td>...</td>\n",
              "      <td>...</td>\n",
              "      <td>...</td>\n",
              "      <td>...</td>\n",
              "      <td>...</td>\n",
              "      <td>...</td>\n",
              "      <td>...</td>\n",
              "    </tr>\n",
              "    <tr>\n",
              "      <th>9995</th>\n",
              "      <td>771</td>\n",
              "      <td>Male</td>\n",
              "      <td>39</td>\n",
              "      <td>5</td>\n",
              "      <td>0.00</td>\n",
              "      <td>2</td>\n",
              "      <td>1</td>\n",
              "      <td>0</td>\n",
              "      <td>96270.64</td>\n",
              "      <td>0</td>\n",
              "      <td>1</td>\n",
              "      <td>0</td>\n",
              "      <td>0</td>\n",
              "    </tr>\n",
              "    <tr>\n",
              "      <th>9996</th>\n",
              "      <td>516</td>\n",
              "      <td>Male</td>\n",
              "      <td>35</td>\n",
              "      <td>10</td>\n",
              "      <td>57369.61</td>\n",
              "      <td>1</td>\n",
              "      <td>1</td>\n",
              "      <td>1</td>\n",
              "      <td>101699.77</td>\n",
              "      <td>0</td>\n",
              "      <td>1</td>\n",
              "      <td>0</td>\n",
              "      <td>0</td>\n",
              "    </tr>\n",
              "    <tr>\n",
              "      <th>9997</th>\n",
              "      <td>709</td>\n",
              "      <td>Female</td>\n",
              "      <td>36</td>\n",
              "      <td>7</td>\n",
              "      <td>0.00</td>\n",
              "      <td>1</td>\n",
              "      <td>0</td>\n",
              "      <td>1</td>\n",
              "      <td>42085.58</td>\n",
              "      <td>1</td>\n",
              "      <td>1</td>\n",
              "      <td>0</td>\n",
              "      <td>0</td>\n",
              "    </tr>\n",
              "    <tr>\n",
              "      <th>9998</th>\n",
              "      <td>772</td>\n",
              "      <td>Male</td>\n",
              "      <td>42</td>\n",
              "      <td>3</td>\n",
              "      <td>75075.31</td>\n",
              "      <td>2</td>\n",
              "      <td>1</td>\n",
              "      <td>0</td>\n",
              "      <td>92888.52</td>\n",
              "      <td>1</td>\n",
              "      <td>0</td>\n",
              "      <td>1</td>\n",
              "      <td>0</td>\n",
              "    </tr>\n",
              "    <tr>\n",
              "      <th>9999</th>\n",
              "      <td>792</td>\n",
              "      <td>Female</td>\n",
              "      <td>28</td>\n",
              "      <td>4</td>\n",
              "      <td>130142.79</td>\n",
              "      <td>1</td>\n",
              "      <td>1</td>\n",
              "      <td>0</td>\n",
              "      <td>38190.78</td>\n",
              "      <td>0</td>\n",
              "      <td>1</td>\n",
              "      <td>0</td>\n",
              "      <td>0</td>\n",
              "    </tr>\n",
              "  </tbody>\n",
              "</table>\n",
              "<p>10000 rows × 13 columns</p>\n",
              "</div>"
            ],
            "text/plain": [
              "      CreditScore  Gender  Age  Tenure  ...  Exited  France  Spain  Germany\n",
              "0             619  Female   42       2  ...       1       1      0        0\n",
              "1             608  Female   41       1  ...       0       0      0        1\n",
              "2             502  Female   42       8  ...       1       1      0        0\n",
              "3             699  Female   39       1  ...       0       1      0        0\n",
              "4             850  Female   43       2  ...       0       0      0        1\n",
              "...           ...     ...  ...     ...  ...     ...     ...    ...      ...\n",
              "9995          771    Male   39       5  ...       0       1      0        0\n",
              "9996          516    Male   35      10  ...       0       1      0        0\n",
              "9997          709  Female   36       7  ...       1       1      0        0\n",
              "9998          772    Male   42       3  ...       1       0      1        0\n",
              "9999          792  Female   28       4  ...       0       1      0        0\n",
              "\n",
              "[10000 rows x 13 columns]"
            ]
          },
          "metadata": {},
          "execution_count": 164
        }
      ]
    },
    {
      "cell_type": "code",
      "metadata": {
        "id": "_vxgGBALIWSb",
        "colab": {
          "base_uri": "https://localhost:8080/"
        },
        "outputId": "1ed376b6-277f-4735-dc8f-e8ad2cdf3178"
      },
      "source": [
        "# Mengubah feature kategorikal, Gender, menjadi numerikal (label encoding)\n",
        "df['Gender'] = [0 if i == 'Female' else 1 for i in df['Gender']]\n",
        "df"
      ],
      "execution_count": null,
      "outputs": [
        {
          "output_type": "execute_result",
          "data": {
            "text/html": [
              "<div>\n",
              "<style scoped>\n",
              "    .dataframe tbody tr th:only-of-type {\n",
              "        vertical-align: middle;\n",
              "    }\n",
              "\n",
              "    .dataframe tbody tr th {\n",
              "        vertical-align: top;\n",
              "    }\n",
              "\n",
              "    .dataframe thead th {\n",
              "        text-align: right;\n",
              "    }\n",
              "</style>\n",
              "<table border=\"1\" class=\"dataframe\">\n",
              "  <thead>\n",
              "    <tr style=\"text-align: right;\">\n",
              "      <th></th>\n",
              "      <th>CreditScore</th>\n",
              "      <th>Gender</th>\n",
              "      <th>Age</th>\n",
              "      <th>Tenure</th>\n",
              "      <th>Balance</th>\n",
              "      <th>NumOfProducts</th>\n",
              "      <th>HasCrCard</th>\n",
              "      <th>IsActiveMember</th>\n",
              "      <th>EstimatedSalary</th>\n",
              "      <th>Exited</th>\n",
              "      <th>France</th>\n",
              "      <th>Spain</th>\n",
              "      <th>Germany</th>\n",
              "    </tr>\n",
              "  </thead>\n",
              "  <tbody>\n",
              "    <tr>\n",
              "      <th>0</th>\n",
              "      <td>619</td>\n",
              "      <td>0</td>\n",
              "      <td>42</td>\n",
              "      <td>2</td>\n",
              "      <td>0.00</td>\n",
              "      <td>1</td>\n",
              "      <td>1</td>\n",
              "      <td>1</td>\n",
              "      <td>101348.88</td>\n",
              "      <td>1</td>\n",
              "      <td>1</td>\n",
              "      <td>0</td>\n",
              "      <td>0</td>\n",
              "    </tr>\n",
              "    <tr>\n",
              "      <th>1</th>\n",
              "      <td>608</td>\n",
              "      <td>0</td>\n",
              "      <td>41</td>\n",
              "      <td>1</td>\n",
              "      <td>83807.86</td>\n",
              "      <td>1</td>\n",
              "      <td>0</td>\n",
              "      <td>1</td>\n",
              "      <td>112542.58</td>\n",
              "      <td>0</td>\n",
              "      <td>0</td>\n",
              "      <td>0</td>\n",
              "      <td>1</td>\n",
              "    </tr>\n",
              "    <tr>\n",
              "      <th>2</th>\n",
              "      <td>502</td>\n",
              "      <td>0</td>\n",
              "      <td>42</td>\n",
              "      <td>8</td>\n",
              "      <td>159660.80</td>\n",
              "      <td>3</td>\n",
              "      <td>1</td>\n",
              "      <td>0</td>\n",
              "      <td>113931.57</td>\n",
              "      <td>1</td>\n",
              "      <td>1</td>\n",
              "      <td>0</td>\n",
              "      <td>0</td>\n",
              "    </tr>\n",
              "    <tr>\n",
              "      <th>3</th>\n",
              "      <td>699</td>\n",
              "      <td>0</td>\n",
              "      <td>39</td>\n",
              "      <td>1</td>\n",
              "      <td>0.00</td>\n",
              "      <td>2</td>\n",
              "      <td>0</td>\n",
              "      <td>0</td>\n",
              "      <td>93826.63</td>\n",
              "      <td>0</td>\n",
              "      <td>1</td>\n",
              "      <td>0</td>\n",
              "      <td>0</td>\n",
              "    </tr>\n",
              "    <tr>\n",
              "      <th>4</th>\n",
              "      <td>850</td>\n",
              "      <td>0</td>\n",
              "      <td>43</td>\n",
              "      <td>2</td>\n",
              "      <td>125510.82</td>\n",
              "      <td>1</td>\n",
              "      <td>1</td>\n",
              "      <td>1</td>\n",
              "      <td>79084.10</td>\n",
              "      <td>0</td>\n",
              "      <td>0</td>\n",
              "      <td>0</td>\n",
              "      <td>1</td>\n",
              "    </tr>\n",
              "    <tr>\n",
              "      <th>...</th>\n",
              "      <td>...</td>\n",
              "      <td>...</td>\n",
              "      <td>...</td>\n",
              "      <td>...</td>\n",
              "      <td>...</td>\n",
              "      <td>...</td>\n",
              "      <td>...</td>\n",
              "      <td>...</td>\n",
              "      <td>...</td>\n",
              "      <td>...</td>\n",
              "      <td>...</td>\n",
              "      <td>...</td>\n",
              "      <td>...</td>\n",
              "    </tr>\n",
              "    <tr>\n",
              "      <th>9995</th>\n",
              "      <td>771</td>\n",
              "      <td>1</td>\n",
              "      <td>39</td>\n",
              "      <td>5</td>\n",
              "      <td>0.00</td>\n",
              "      <td>2</td>\n",
              "      <td>1</td>\n",
              "      <td>0</td>\n",
              "      <td>96270.64</td>\n",
              "      <td>0</td>\n",
              "      <td>1</td>\n",
              "      <td>0</td>\n",
              "      <td>0</td>\n",
              "    </tr>\n",
              "    <tr>\n",
              "      <th>9996</th>\n",
              "      <td>516</td>\n",
              "      <td>1</td>\n",
              "      <td>35</td>\n",
              "      <td>10</td>\n",
              "      <td>57369.61</td>\n",
              "      <td>1</td>\n",
              "      <td>1</td>\n",
              "      <td>1</td>\n",
              "      <td>101699.77</td>\n",
              "      <td>0</td>\n",
              "      <td>1</td>\n",
              "      <td>0</td>\n",
              "      <td>0</td>\n",
              "    </tr>\n",
              "    <tr>\n",
              "      <th>9997</th>\n",
              "      <td>709</td>\n",
              "      <td>0</td>\n",
              "      <td>36</td>\n",
              "      <td>7</td>\n",
              "      <td>0.00</td>\n",
              "      <td>1</td>\n",
              "      <td>0</td>\n",
              "      <td>1</td>\n",
              "      <td>42085.58</td>\n",
              "      <td>1</td>\n",
              "      <td>1</td>\n",
              "      <td>0</td>\n",
              "      <td>0</td>\n",
              "    </tr>\n",
              "    <tr>\n",
              "      <th>9998</th>\n",
              "      <td>772</td>\n",
              "      <td>1</td>\n",
              "      <td>42</td>\n",
              "      <td>3</td>\n",
              "      <td>75075.31</td>\n",
              "      <td>2</td>\n",
              "      <td>1</td>\n",
              "      <td>0</td>\n",
              "      <td>92888.52</td>\n",
              "      <td>1</td>\n",
              "      <td>0</td>\n",
              "      <td>1</td>\n",
              "      <td>0</td>\n",
              "    </tr>\n",
              "    <tr>\n",
              "      <th>9999</th>\n",
              "      <td>792</td>\n",
              "      <td>0</td>\n",
              "      <td>28</td>\n",
              "      <td>4</td>\n",
              "      <td>130142.79</td>\n",
              "      <td>1</td>\n",
              "      <td>1</td>\n",
              "      <td>0</td>\n",
              "      <td>38190.78</td>\n",
              "      <td>0</td>\n",
              "      <td>1</td>\n",
              "      <td>0</td>\n",
              "      <td>0</td>\n",
              "    </tr>\n",
              "  </tbody>\n",
              "</table>\n",
              "<p>10000 rows × 13 columns</p>\n",
              "</div>"
            ],
            "text/plain": [
              "      CreditScore  Gender  Age  Tenure  ...  Exited  France  Spain  Germany\n",
              "0             619       0   42       2  ...       1       1      0        0\n",
              "1             608       0   41       1  ...       0       0      0        1\n",
              "2             502       0   42       8  ...       1       1      0        0\n",
              "3             699       0   39       1  ...       0       1      0        0\n",
              "4             850       0   43       2  ...       0       0      0        1\n",
              "...           ...     ...  ...     ...  ...     ...     ...    ...      ...\n",
              "9995          771       1   39       5  ...       0       1      0        0\n",
              "9996          516       1   35      10  ...       0       1      0        0\n",
              "9997          709       0   36       7  ...       1       1      0        0\n",
              "9998          772       1   42       3  ...       1       0      1        0\n",
              "9999          792       0   28       4  ...       0       1      0        0\n",
              "\n",
              "[10000 rows x 13 columns]"
            ]
          },
          "metadata": {},
          "execution_count": 165
        }
      ]
    },
    {
      "cell_type": "markdown",
      "metadata": {
        "id": "Zl2ghABqJxGl"
      },
      "source": [
        "## Splitting Dataset"
      ]
    },
    {
      "cell_type": "code",
      "metadata": {
        "id": "t0FIil8gKmhV"
      },
      "source": [
        "# Membagi dataset berdasarkan feature predictor dan target\n",
        "x = df.drop('Exited', 1)\n",
        "y = df[['Exited']]"
      ],
      "execution_count": null,
      "outputs": []
    },
    {
      "cell_type": "code",
      "metadata": {
        "id": "VyVNEeBDMGTp",
        "colab": {
          "base_uri": "https://localhost:8080/"
        },
        "outputId": "6d8ede7e-e0f7-4efa-c6ac-045b3b8dfdb3"
      },
      "source": [
        "# Feature predictor\n",
        "print(x)"
      ],
      "execution_count": null,
      "outputs": [
        {
          "output_type": "stream",
          "name": "stdout",
          "text": [
            "      CreditScore  Gender  Age  Tenure  ...  EstimatedSalary  France  Spain  Germany\n",
            "0             619       0   42       2  ...        101348.88       1      0        0\n",
            "1             608       0   41       1  ...        112542.58       0      0        1\n",
            "2             502       0   42       8  ...        113931.57       1      0        0\n",
            "3             699       0   39       1  ...         93826.63       1      0        0\n",
            "4             850       0   43       2  ...         79084.10       0      0        1\n",
            "...           ...     ...  ...     ...  ...              ...     ...    ...      ...\n",
            "9995          771       1   39       5  ...         96270.64       1      0        0\n",
            "9996          516       1   35      10  ...        101699.77       1      0        0\n",
            "9997          709       0   36       7  ...         42085.58       1      0        0\n",
            "9998          772       1   42       3  ...         92888.52       0      1        0\n",
            "9999          792       0   28       4  ...         38190.78       1      0        0\n",
            "\n",
            "[10000 rows x 12 columns]\n"
          ]
        }
      ]
    },
    {
      "cell_type": "code",
      "metadata": {
        "id": "rR8NBlRkMQxE",
        "colab": {
          "base_uri": "https://localhost:8080/"
        },
        "outputId": "71867c6a-7b26-4857-c7c0-84e7ef8ea30b"
      },
      "source": [
        "# Feature target\n",
        "print(y)"
      ],
      "execution_count": null,
      "outputs": [
        {
          "output_type": "stream",
          "name": "stdout",
          "text": [
            "      Exited\n",
            "0          1\n",
            "1          0\n",
            "2          1\n",
            "3          0\n",
            "4          0\n",
            "...      ...\n",
            "9995       0\n",
            "9996       0\n",
            "9997       1\n",
            "9998       1\n",
            "9999       0\n",
            "\n",
            "[10000 rows x 1 columns]\n"
          ]
        }
      ]
    },
    {
      "cell_type": "code",
      "metadata": {
        "id": "Lin6dh4GMfN7"
      },
      "source": [
        "# Membagi dataset berdasarkan data train dan data test\n",
        "x_train, x_test, y_train, y_test = train_test_split(x, y, test_size=0.2, random_state=62, stratify=y)"
      ],
      "execution_count": null,
      "outputs": []
    },
    {
      "cell_type": "code",
      "metadata": {
        "id": "Rhx0UNPwNFHz",
        "colab": {
          "base_uri": "https://localhost:8080/"
        },
        "outputId": "a32c91e0-cd40-4286-a64b-56dcc89a7794"
      },
      "source": [
        "# Data train feature predictor\n",
        "print(x_train)"
      ],
      "execution_count": null,
      "outputs": [
        {
          "output_type": "stream",
          "name": "stdout",
          "text": [
            "      CreditScore  Gender  Age  Tenure  ...  EstimatedSalary  France  Spain  Germany\n",
            "4428          602       0   35       5  ...         31050.02       1      0        0\n",
            "5361          589       1   46       9  ...        170676.67       1      0        0\n",
            "2542          549       1   41       9  ...        131710.59       0      1        0\n",
            "6837          664       1   40       9  ...        194767.30       1      0        0\n",
            "6155          759       1   26       4  ...        135394.62       1      0        0\n",
            "...           ...     ...  ...     ...  ...              ...     ...    ...      ...\n",
            "7291          599       1   33       4  ...        111622.76       0      0        1\n",
            "4033          632       1   48       6  ...         64345.61       0      1        0\n",
            "7361          692       0   36       4  ...        185580.89       1      0        0\n",
            "5170          814       0   31       4  ...        142029.17       1      0        0\n",
            "5834          793       1   32       2  ...        193817.63       1      0        0\n",
            "\n",
            "[8000 rows x 12 columns]\n"
          ]
        }
      ]
    },
    {
      "cell_type": "code",
      "metadata": {
        "id": "S-kZXDDrNab7",
        "colab": {
          "base_uri": "https://localhost:8080/"
        },
        "outputId": "a634f64e-42bb-430a-bc1f-ff1540fbe9c1"
      },
      "source": [
        "# Data test feature predictor\n",
        "print(x_test)"
      ],
      "execution_count": null,
      "outputs": [
        {
          "output_type": "stream",
          "name": "stdout",
          "text": [
            "      CreditScore  Gender  Age  Tenure  ...  EstimatedSalary  France  Spain  Germany\n",
            "5895          738       1   37       7  ...        195333.98       0      1        0\n",
            "1371          611       0   43       8  ...        114996.33       1      0        0\n",
            "6133          667       0   33       4  ...         69011.66       0      1        0\n",
            "3238          675       1   54       6  ...        110273.84       1      0        0\n",
            "6633          729       0   42       7  ...         58268.20       0      0        1\n",
            "...           ...     ...  ...     ...  ...              ...     ...    ...      ...\n",
            "3056          685       1   58       1  ...        154181.41       1      0        0\n",
            "7285          679       1   29       3  ...         63687.06       1      0        0\n",
            "4357          755       1   36       8  ...        176809.87       1      0        0\n",
            "183           636       1   42       2  ...         55470.78       1      0        0\n",
            "8192          589       1   36       8  ...         26955.72       1      0        0\n",
            "\n",
            "[2000 rows x 12 columns]\n"
          ]
        }
      ]
    },
    {
      "cell_type": "code",
      "metadata": {
        "id": "SXsQQBuTNe_e",
        "colab": {
          "base_uri": "https://localhost:8080/"
        },
        "outputId": "ac5d38bf-351b-417d-8607-485abd04189c"
      },
      "source": [
        "# Data train feature target\n",
        "print(y_train)"
      ],
      "execution_count": null,
      "outputs": [
        {
          "output_type": "stream",
          "name": "stdout",
          "text": [
            "      Exited\n",
            "4428       0\n",
            "5361       0\n",
            "2542       1\n",
            "6837       0\n",
            "6155       0\n",
            "...      ...\n",
            "7291       1\n",
            "4033       1\n",
            "7361       1\n",
            "5170       0\n",
            "5834       1\n",
            "\n",
            "[8000 rows x 1 columns]\n"
          ]
        }
      ]
    },
    {
      "cell_type": "code",
      "metadata": {
        "id": "gssHS5_rNiqY",
        "colab": {
          "base_uri": "https://localhost:8080/"
        },
        "outputId": "58424e67-15df-4412-c7f6-3d8bbf411b1e"
      },
      "source": [
        "# Data test feature target\n",
        "print(y_test)"
      ],
      "execution_count": null,
      "outputs": [
        {
          "output_type": "stream",
          "name": "stdout",
          "text": [
            "      Exited\n",
            "5895       0\n",
            "1371       0\n",
            "6133       0\n",
            "3238       1\n",
            "6633       1\n",
            "...      ...\n",
            "3056       0\n",
            "7285       0\n",
            "4357       0\n",
            "183        0\n",
            "8192       0\n",
            "\n",
            "[2000 rows x 1 columns]\n"
          ]
        }
      ]
    },
    {
      "cell_type": "markdown",
      "metadata": {
        "id": "zzNjH96XNrV2"
      },
      "source": [
        "## Feature Scaling"
      ]
    },
    {
      "cell_type": "code",
      "metadata": {
        "id": "GgjXot3aNtj0",
        "colab": {
          "base_uri": "https://localhost:8080/"
        },
        "outputId": "05166758-0dfa-4390-dd59-a2d9e0dd72f2"
      },
      "source": [
        "# Melakukan standarisasi pada data train\n",
        "sc = StandardScaler()\n",
        "x_train = sc.fit_transform(x_train)\n",
        "x_train"
      ],
      "execution_count": null,
      "outputs": [
        {
          "output_type": "execute_result",
          "data": {
            "text/plain": [
              "array([[-0.4947136 , -1.0952694 , -0.37577777, ...,  0.99401789,\n",
              "        -0.57831252, -0.57176909],\n",
              "       [-0.62969543,  0.91301738,  0.67321486, ...,  0.99401789,\n",
              "        -0.57831252, -0.57176909],\n",
              "       [-1.04502414,  0.91301738,  0.19640003, ..., -1.00601811,\n",
              "         1.72916886, -0.57176909],\n",
              "       ...,\n",
              "       [ 0.43977599, -1.0952694 , -0.2804148 , ...,  0.99401789,\n",
              "        -0.57831252, -0.57176909],\n",
              "       [ 1.70652855, -1.0952694 , -0.75722963, ...,  0.99401789,\n",
              "        -0.57831252, -0.57176909],\n",
              "       [ 1.48848098,  0.91301738, -0.66186667, ...,  0.99401789,\n",
              "        -0.57831252, -0.57176909]])"
            ]
          },
          "metadata": {},
          "execution_count": 174
        }
      ]
    },
    {
      "cell_type": "code",
      "metadata": {
        "id": "BIyBrOnvOoDe",
        "colab": {
          "base_uri": "https://localhost:8080/"
        },
        "outputId": "69ce9dab-d871-45e4-9824-7229f0b22232"
      },
      "source": [
        "# Melakukan standarisasi pada data test feature predictor\n",
        "x_test = sc.transform(x_test)\n",
        "x_test"
      ],
      "execution_count": null,
      "outputs": [
        {
          "output_type": "execute_result",
          "data": {
            "text/plain": [
              "array([[ 0.91740401,  0.91301738, -0.18505184, ..., -1.00601811,\n",
              "         1.72916886, -0.57176909],\n",
              "       [-0.40126464, -1.0952694 ,  0.38712596, ...,  0.99401789,\n",
              "        -0.57831252, -0.57176909],\n",
              "       [ 0.18019555, -1.0952694 , -0.5665037 , ..., -1.00601811,\n",
              "         1.72916886, -0.57176909],\n",
              "       ...,\n",
              "       [ 1.09391871,  0.91301738, -0.2804148 , ...,  0.99401789,\n",
              "        -0.57831252, -0.57176909],\n",
              "       [-0.1416842 ,  0.91301738,  0.291763  , ...,  0.99401789,\n",
              "        -0.57831252, -0.57176909],\n",
              "       [-0.62969543,  0.91301738, -0.2804148 , ...,  0.99401789,\n",
              "        -0.57831252, -0.57176909]])"
            ]
          },
          "metadata": {},
          "execution_count": 175
        }
      ]
    },
    {
      "cell_type": "markdown",
      "metadata": {
        "id": "qZIIU8n-OvvZ"
      },
      "source": [
        "## Handling Imbalance Dataset"
      ]
    },
    {
      "cell_type": "code",
      "metadata": {
        "colab": {
          "base_uri": "https://localhost:8080/"
        },
        "id": "b8Onina7fN5O",
        "outputId": "962045b4-1469-494b-f056-17b4c205cfbe"
      },
      "source": [
        "# Mengatasi imbalance dataset dengan SMOTETomek\n",
        "from imblearn.combine import SMOTETomek\n",
        "smt = SMOTETomek(random_state=62)\n",
        "x_train, y_train = smt.fit_resample(x_train, y_train)"
      ],
      "execution_count": null,
      "outputs": [
        {
          "output_type": "stream",
          "name": "stderr",
          "text": [
            "/usr/local/lib/python3.7/dist-packages/sklearn/externals/six.py:31: FutureWarning: The module is deprecated in version 0.21 and will be removed in version 0.23 since we've dropped support for Python 2.7. Please rely on the official version of six (https://pypi.org/project/six/).\n",
            "  \"(https://pypi.org/project/six/).\", FutureWarning)\n",
            "/usr/local/lib/python3.7/dist-packages/sklearn/utils/deprecation.py:144: FutureWarning: The sklearn.neighbors.base module is  deprecated in version 0.22 and will be removed in version 0.24. The corresponding classes / functions should instead be imported from sklearn.neighbors. Anything that cannot be imported from sklearn.neighbors is now part of the private API.\n",
            "  warnings.warn(message, FutureWarning)\n",
            "/usr/local/lib/python3.7/dist-packages/sklearn/utils/validation.py:760: DataConversionWarning: A column-vector y was passed when a 1d array was expected. Please change the shape of y to (n_samples, ), for example using ravel().\n",
            "  y = column_or_1d(y, warn=True)\n",
            "/usr/local/lib/python3.7/dist-packages/sklearn/utils/deprecation.py:87: FutureWarning: Function safe_indexing is deprecated; safe_indexing is deprecated in version 0.22 and will be removed in version 0.24.\n",
            "  warnings.warn(msg, category=FutureWarning)\n",
            "/usr/local/lib/python3.7/dist-packages/sklearn/utils/deprecation.py:87: FutureWarning: Function safe_indexing is deprecated; safe_indexing is deprecated in version 0.22 and will be removed in version 0.24.\n",
            "  warnings.warn(msg, category=FutureWarning)\n"
          ]
        }
      ]
    },
    {
      "cell_type": "code",
      "metadata": {
        "colab": {
          "base_uri": "https://localhost:8080/"
        },
        "id": "0T7-LOgjfX05",
        "outputId": "c0594f24-4150-42d7-9351-b75545aa4de3"
      },
      "source": [
        "Counter(y_train)"
      ],
      "execution_count": null,
      "outputs": [
        {
          "output_type": "execute_result",
          "data": {
            "text/plain": [
              "Counter({0: 6276, 1: 6276})"
            ]
          },
          "metadata": {},
          "execution_count": 177
        }
      ]
    },
    {
      "cell_type": "markdown",
      "metadata": {
        "id": "5P5QlqMOZgGY"
      },
      "source": [
        "# Develop Model and Evaluation"
      ]
    },
    {
      "cell_type": "markdown",
      "metadata": {
        "id": "Qu2NXJgRxTRu"
      },
      "source": [
        "## Confusion Matrix"
      ]
    },
    {
      "cell_type": "code",
      "metadata": {
        "id": "_1tATOEMxgqM"
      },
      "source": [
        "# Fungsi matriks evaluasi yang digunakan\n",
        "def class_eval (act, pred, name):\n",
        "    cm = confusion_matrix(act, pred)\n",
        "    tn = cm[0][0]\n",
        "    fp = cm[0][1]    \n",
        "    fn = cm[1][0]\n",
        "    tp = cm[1][1]\n",
        "\n",
        "    accuracy = round((tp + tn) / (tp + tn + fp + fn) * 100, 2)\n",
        "    precision = round((tp) / (tp + fp) * 100, 2)\n",
        "    recall = round((tp) / (tp + fn) * 100, 2)\n",
        "    # npv = round((tn) / (tn + fn) * 100, 2)\n",
        "    # pecificity = round((tn) / (tn + fp) * 100, 2)\n",
        "    f1score = round(2 * (precision * recall) / (precision + recall), 2)\n",
        "        \n",
        "    print('Evaluation Model:', name)\n",
        "    print(cm)\n",
        "    print('Accuracy :', accuracy, '%')\n",
        "    print('Precision:', precision, '%')\n",
        "    print('Recall   :', recall, '%')\n",
        "    # print('NPV        :', npv, '%')\n",
        "    # print('Specificity:', specificity, '%')\n",
        "    print('F1-Score :', f1score, '%')"
      ],
      "execution_count": null,
      "outputs": []
    },
    {
      "cell_type": "markdown",
      "metadata": {
        "id": "kf1kgYC-LLbC"
      },
      "source": [
        "## KNN"
      ]
    },
    {
      "cell_type": "code",
      "metadata": {
        "id": "G2ao4yqfM5dY",
        "colab": {
          "base_uri": "https://localhost:8080/"
        },
        "outputId": "9b966b0a-b720-4b00-feda-f8b4bba55ee8"
      },
      "source": [
        "# Melakukan data training\n",
        "knn = KNeighborsClassifier(n_neighbors=31)\n",
        "knn.fit(x_train, y_train)"
      ],
      "execution_count": null,
      "outputs": [
        {
          "output_type": "execute_result",
          "data": {
            "text/plain": [
              "KNeighborsClassifier(algorithm='auto', leaf_size=30, metric='minkowski',\n",
              "                     metric_params=None, n_jobs=None, n_neighbors=31, p=2,\n",
              "                     weights='uniform')"
            ]
          },
          "metadata": {},
          "execution_count": 236
        }
      ]
    },
    {
      "cell_type": "code",
      "metadata": {
        "id": "zVZmGZZ9NEx9"
      },
      "source": [
        "# Prediksi data train dan data test\n",
        "y_train_pred = knn.predict(x_train)\n",
        "y_test_pred = knn.predict(x_test)"
      ],
      "execution_count": null,
      "outputs": []
    },
    {
      "cell_type": "code",
      "metadata": {
        "id": "wadvvLDbNLOp",
        "colab": {
          "base_uri": "https://localhost:8080/"
        },
        "outputId": "0362f1ce-7f1f-4ca3-b286-c73be988f571"
      },
      "source": [
        "# Melihat performa data training\n",
        "class_eval(y_train, y_train_pred, 'KNN Training Perf.')"
      ],
      "execution_count": null,
      "outputs": [
        {
          "output_type": "stream",
          "name": "stdout",
          "text": [
            "Evaluation Model: KNN Training Perf.\n",
            "[[4830 1446]\n",
            " [ 869 5407]]\n",
            "Accuracy : 81.56 %\n",
            "Precision: 78.9 %\n",
            "Recall   : 86.15 %\n",
            "F1-Score : 82.37 %\n"
          ]
        }
      ]
    },
    {
      "cell_type": "code",
      "metadata": {
        "id": "vhBzmgxpNQds",
        "colab": {
          "base_uri": "https://localhost:8080/"
        },
        "outputId": "8cd2d44f-bde8-44a7-e25a-c9ba5b54264c"
      },
      "source": [
        "# Melihat performa data testing\n",
        "class_eval(y_test, y_test_pred, 'KNN Testing Perf.')"
      ],
      "execution_count": null,
      "outputs": [
        {
          "output_type": "stream",
          "name": "stdout",
          "text": [
            "Evaluation Model: KNN Testing Perf.\n",
            "[[1199  394]\n",
            " [  99  308]]\n",
            "Accuracy : 75.35 %\n",
            "Precision: 43.87 %\n",
            "Recall   : 75.68 %\n",
            "F1-Score : 55.54 %\n"
          ]
        }
      ]
    },
    {
      "cell_type": "markdown",
      "metadata": {
        "id": "j3H8EAx3NUvn"
      },
      "source": [
        "## Decision Tree"
      ]
    },
    {
      "cell_type": "code",
      "metadata": {
        "id": "mKG9a10ANYrL",
        "colab": {
          "base_uri": "https://localhost:8080/"
        },
        "outputId": "4e98ba0a-04d6-48af-ec89-d18f1930e142"
      },
      "source": [
        "# Melakukan data training\n",
        "dectree = DecisionTreeClassifier(max_depth=5,random_state=62)\n",
        "dectree.fit(x_train, y_train)"
      ],
      "execution_count": null,
      "outputs": [
        {
          "output_type": "execute_result",
          "data": {
            "text/plain": [
              "DecisionTreeClassifier(ccp_alpha=0.0, class_weight=None, criterion='gini',\n",
              "                       max_depth=5, max_features=None, max_leaf_nodes=None,\n",
              "                       min_impurity_decrease=0.0, min_impurity_split=None,\n",
              "                       min_samples_leaf=1, min_samples_split=2,\n",
              "                       min_weight_fraction_leaf=0.0, presort='deprecated',\n",
              "                       random_state=62, splitter='best')"
            ]
          },
          "metadata": {},
          "execution_count": 294
        }
      ]
    },
    {
      "cell_type": "code",
      "metadata": {
        "id": "w-sJxLTFYD1z"
      },
      "source": [
        "# Prediksi data train dan data test\n",
        "y_train_pred = dectree.predict(x_train)\n",
        "y_test_pred = dectree.predict(x_test)"
      ],
      "execution_count": null,
      "outputs": []
    },
    {
      "cell_type": "code",
      "metadata": {
        "id": "hN6QqNQGYIJX",
        "colab": {
          "base_uri": "https://localhost:8080/"
        },
        "outputId": "b08423af-5192-4400-b3a7-78615d9ebe4d"
      },
      "source": [
        "# Melihat performa data training\n",
        "class_eval(y_train, y_train_pred, 'Dectree Training Perf.')"
      ],
      "execution_count": null,
      "outputs": [
        {
          "output_type": "stream",
          "name": "stdout",
          "text": [
            "Evaluation Model: Dectree Training Perf.\n",
            "[[5037 1239]\n",
            " [1333 4943]]\n",
            "Accuracy : 79.51 %\n",
            "Precision: 79.96 %\n",
            "Recall   : 78.76 %\n",
            "F1-Score : 79.36 %\n"
          ]
        }
      ]
    },
    {
      "cell_type": "code",
      "metadata": {
        "id": "et_hORqDYNr5",
        "colab": {
          "base_uri": "https://localhost:8080/"
        },
        "outputId": "2d81ed7b-ea37-492a-e22b-218ef54fd58a"
      },
      "source": [
        "# Melihat performa data testing\n",
        "class_eval(y_test, y_test_pred, 'Dectree Testing Perf.')"
      ],
      "execution_count": null,
      "outputs": [
        {
          "output_type": "stream",
          "name": "stdout",
          "text": [
            "Evaluation Model: Dectree Testing Perf.\n",
            "[[1273  320]\n",
            " [ 104  303]]\n",
            "Accuracy : 78.8 %\n",
            "Precision: 48.64 %\n",
            "Recall   : 74.45 %\n",
            "F1-Score : 58.84 %\n"
          ]
        }
      ]
    },
    {
      "cell_type": "markdown",
      "metadata": {
        "id": "UonTMNYtNeAD"
      },
      "source": [
        "## Random Forest"
      ]
    },
    {
      "cell_type": "code",
      "metadata": {
        "id": "J6CSFkZaXqvL",
        "colab": {
          "base_uri": "https://localhost:8080/"
        },
        "outputId": "59668ad1-f0d2-4f82-f404-61db02ba434a"
      },
      "source": [
        "# Melakukan data training\n",
        "ranfor = RandomForestClassifier(max_depth=6,random_state=62)\n",
        "ranfor.fit(x_train, y_train)"
      ],
      "execution_count": null,
      "outputs": [
        {
          "output_type": "execute_result",
          "data": {
            "text/plain": [
              "RandomForestClassifier(bootstrap=True, ccp_alpha=0.0, class_weight=None,\n",
              "                       criterion='gini', max_depth=6, max_features='auto',\n",
              "                       max_leaf_nodes=None, max_samples=None,\n",
              "                       min_impurity_decrease=0.0, min_impurity_split=None,\n",
              "                       min_samples_leaf=1, min_samples_split=2,\n",
              "                       min_weight_fraction_leaf=0.0, n_estimators=100,\n",
              "                       n_jobs=None, oob_score=False, random_state=62, verbose=0,\n",
              "                       warm_start=False)"
            ]
          },
          "metadata": {},
          "execution_count": 290
        }
      ]
    },
    {
      "cell_type": "code",
      "metadata": {
        "id": "8O5PaC7lXv6J"
      },
      "source": [
        "# Prediksi data train dan data test\n",
        "y_train_pred = ranfor.predict(x_train)\n",
        "y_test_pred = ranfor.predict(x_test)"
      ],
      "execution_count": null,
      "outputs": []
    },
    {
      "cell_type": "code",
      "metadata": {
        "id": "whHjQT_7Xzar",
        "colab": {
          "base_uri": "https://localhost:8080/"
        },
        "outputId": "35e9e3c5-ce90-4411-9000-dd4c00f25d47"
      },
      "source": [
        "# Melihat performa data training\n",
        "class_eval(y_train, y_train_pred, 'Ranfor Training Perf.')"
      ],
      "execution_count": null,
      "outputs": [
        {
          "output_type": "stream",
          "name": "stdout",
          "text": [
            "Evaluation Model: Ranfor Training Perf.\n",
            "[[5282  994]\n",
            " [1139 5137]]\n",
            "Accuracy : 83.01 %\n",
            "Precision: 83.79 %\n",
            "Recall   : 81.85 %\n",
            "F1-Score : 82.81 %\n"
          ]
        }
      ]
    },
    {
      "cell_type": "code",
      "metadata": {
        "id": "gIjEh6rTX4mu",
        "colab": {
          "base_uri": "https://localhost:8080/"
        },
        "outputId": "9a6dabe4-237a-420a-ecda-8e3c3c01f07d"
      },
      "source": [
        "# Melihat performa data testing\n",
        "class_eval(y_test, y_test_pred, 'Ranfor Testing Perf.')"
      ],
      "execution_count": null,
      "outputs": [
        {
          "output_type": "stream",
          "name": "stdout",
          "text": [
            "Evaluation Model: Ranfor Testing Perf.\n",
            "[[1307  286]\n",
            " [ 104  303]]\n",
            "Accuracy : 80.5 %\n",
            "Precision: 51.44 %\n",
            "Recall   : 74.45 %\n",
            "F1-Score : 60.84 %\n"
          ]
        }
      ]
    },
    {
      "cell_type": "markdown",
      "metadata": {
        "id": "o9lkpgI8ZXsU"
      },
      "source": [
        "## Bagging Classifier"
      ]
    },
    {
      "cell_type": "code",
      "metadata": {
        "id": "Y8mfrYkBZfFT",
        "colab": {
          "base_uri": "https://localhost:8080/"
        },
        "outputId": "054c9e2a-f73d-47ec-d2df-03aa43449b89"
      },
      "source": [
        "# Melakukan data training\n",
        "clf = BaggingClassifier(base_estimator=SVC(kernel='rbf', C=1, random_state=62))\n",
        "clf.fit(x_train, y_train)"
      ],
      "execution_count": null,
      "outputs": [
        {
          "output_type": "execute_result",
          "data": {
            "text/plain": [
              "BaggingClassifier(base_estimator=SVC(C=1, break_ties=False, cache_size=200,\n",
              "                                     class_weight=None, coef0=0.0,\n",
              "                                     decision_function_shape='ovr', degree=3,\n",
              "                                     gamma='scale', kernel='rbf', max_iter=-1,\n",
              "                                     probability=False, random_state=62,\n",
              "                                     shrinking=True, tol=0.001, verbose=False),\n",
              "                  bootstrap=True, bootstrap_features=False, max_features=1.0,\n",
              "                  max_samples=1.0, n_estimators=10, n_jobs=None,\n",
              "                  oob_score=False, random_state=None, verbose=0,\n",
              "                  warm_start=False)"
            ]
          },
          "metadata": {},
          "execution_count": 322
        }
      ]
    },
    {
      "cell_type": "code",
      "metadata": {
        "id": "QcCmDHfHZ0ot"
      },
      "source": [
        "# Prediksi data train dan data test\n",
        "y_train_pred = clf.predict(x_train)\n",
        "y_test_pred = clf.predict(x_test)"
      ],
      "execution_count": null,
      "outputs": []
    },
    {
      "cell_type": "code",
      "metadata": {
        "id": "v713m8i8Z6M8",
        "colab": {
          "base_uri": "https://localhost:8080/"
        },
        "outputId": "033b496f-53d2-4945-c2c4-784f99e5b13f"
      },
      "source": [
        "# Melihat performa data training\n",
        "class_eval(y_train, y_train_pred, 'Bagging Class Training Perf.')"
      ],
      "execution_count": null,
      "outputs": [
        {
          "output_type": "stream",
          "name": "stdout",
          "text": [
            "Evaluation Model: Bagging Class Training Perf.\n",
            "[[5227 1049]\n",
            " [1108 5168]]\n",
            "Accuracy : 82.82 %\n",
            "Precision: 83.13 %\n",
            "Recall   : 82.35 %\n",
            "F1-Score : 82.74 %\n"
          ]
        }
      ]
    },
    {
      "cell_type": "code",
      "metadata": {
        "id": "QYGBqlnGZ8FS",
        "colab": {
          "base_uri": "https://localhost:8080/"
        },
        "outputId": "625d7ed6-759d-4bbe-b8cb-1a544017e1d8"
      },
      "source": [
        "# Melihat performa data testing\n",
        "class_eval(y_test, y_test_pred, 'Bagging Class Testing Perf.')"
      ],
      "execution_count": null,
      "outputs": [
        {
          "output_type": "stream",
          "name": "stdout",
          "text": [
            "Evaluation Model: Bagging Class Testing Perf.\n",
            "[[1303  290]\n",
            " [ 106  301]]\n",
            "Accuracy : 80.2 %\n",
            "Precision: 50.93 %\n",
            "Recall   : 73.96 %\n",
            "F1-Score : 60.32 %\n"
          ]
        }
      ]
    },
    {
      "cell_type": "markdown",
      "metadata": {
        "id": "zMYkvNJMiW05"
      },
      "source": [
        "## Adaboost"
      ]
    },
    {
      "cell_type": "code",
      "metadata": {
        "id": "OSj2rjwCi_BY",
        "colab": {
          "base_uri": "https://localhost:8080/"
        },
        "outputId": "8bfa58f5-3087-4073-8621-fa7276097b2f"
      },
      "source": [
        "# Melakukan data training\n",
        "ada = AdaBoostClassifier(learning_rate=1.0,n_estimators=100)\n",
        "ada.fit(x_train, y_train)"
      ],
      "execution_count": null,
      "outputs": [
        {
          "output_type": "execute_result",
          "data": {
            "text/plain": [
              "AdaBoostClassifier(algorithm='SAMME.R', base_estimator=None, learning_rate=1.0,\n",
              "                   n_estimators=100, random_state=None)"
            ]
          },
          "metadata": {},
          "execution_count": 306
        }
      ]
    },
    {
      "cell_type": "code",
      "metadata": {
        "id": "272qFIyvjITT"
      },
      "source": [
        "# Prediksi data train dan data test\n",
        "y_train_pred = ada.predict(x_train)\n",
        "y_test_pred = ada.predict(x_test)"
      ],
      "execution_count": null,
      "outputs": []
    },
    {
      "cell_type": "code",
      "metadata": {
        "id": "LkXM-S7PjMpI",
        "colab": {
          "base_uri": "https://localhost:8080/"
        },
        "outputId": "ce666740-20cd-41d9-996f-8540ecd2dbe0"
      },
      "source": [
        "# Melihat performa data training\n",
        "class_eval(y_train, y_train_pred, 'Adaboost Class Training Perf.')"
      ],
      "execution_count": null,
      "outputs": [
        {
          "output_type": "stream",
          "name": "stdout",
          "text": [
            "Evaluation Model: Adaboost Class Training Perf.\n",
            "[[5360  916]\n",
            " [1015 5261]]\n",
            "Accuracy : 84.62 %\n",
            "Precision: 85.17 %\n",
            "Recall   : 83.83 %\n",
            "F1-Score : 84.49 %\n"
          ]
        }
      ]
    },
    {
      "cell_type": "code",
      "metadata": {
        "id": "eC6jxpSnjX7Y",
        "colab": {
          "base_uri": "https://localhost:8080/"
        },
        "outputId": "ec9e26bb-8e26-41e8-ead5-a5e566d9c85d"
      },
      "source": [
        "# Melihat performa data testing\n",
        "class_eval(y_test, y_test_pred, 'Adaboost Class Testing Perf.')"
      ],
      "execution_count": null,
      "outputs": [
        {
          "output_type": "stream",
          "name": "stdout",
          "text": [
            "Evaluation Model: Adaboost Class Testing Perf.\n",
            "[[1341  252]\n",
            " [ 123  284]]\n",
            "Accuracy : 81.25 %\n",
            "Precision: 52.99 %\n",
            "Recall   : 69.78 %\n",
            "F1-Score : 60.24 %\n"
          ]
        }
      ]
    },
    {
      "cell_type": "markdown",
      "metadata": {
        "id": "aY4V8omBlNug"
      },
      "source": [
        "## XGBoost"
      ]
    },
    {
      "cell_type": "code",
      "metadata": {
        "id": "pdrVgEZ7llUc",
        "colab": {
          "base_uri": "https://localhost:8080/"
        },
        "outputId": "2547d20e-22dd-49e3-8006-5d0e44f7ebad"
      },
      "source": [
        "# Melakukan data training\n",
        "xg = xgb.XGBClassifier(learning_rate=0.1, n_estimators=100, \n",
        "                       objective='binary:logistic', random_state=42)\n",
        "xg.fit(x_train, y_train)"
      ],
      "execution_count": null,
      "outputs": [
        {
          "output_type": "execute_result",
          "data": {
            "text/plain": [
              "XGBClassifier(base_score=0.5, booster='gbtree', colsample_bylevel=1,\n",
              "              colsample_bynode=1, colsample_bytree=1, earning_rate=0.1, gamma=0,\n",
              "              learning_rate=0.1, max_delta_step=0, max_depth=3,\n",
              "              min_child_weight=1, missing=None, n_estimators=100, n_jobs=1,\n",
              "              nthread=None, objective='binary:logistic', random_state=42,\n",
              "              reg_alpha=0, reg_lambda=1, scale_pos_weight=1, seed=None,\n",
              "              silent=None, subsample=1, verbosity=1)"
            ]
          },
          "metadata": {},
          "execution_count": 310
        }
      ]
    },
    {
      "cell_type": "code",
      "metadata": {
        "id": "3DUe_c7DrdP8"
      },
      "source": [
        "# Prediksi data train dan data test\n",
        "y_train_pred = xg.predict(x_train)\n",
        "y_test_pred = xg.predict(x_test)"
      ],
      "execution_count": null,
      "outputs": []
    },
    {
      "cell_type": "code",
      "metadata": {
        "id": "UwXeiaotmDwc",
        "colab": {
          "base_uri": "https://localhost:8080/"
        },
        "outputId": "0a25f334-46e1-4eae-ff2f-d6ad8d3a793f"
      },
      "source": [
        "# Melihat performa data training\n",
        "class_eval(y_train, y_train_pred, 'XGBoost Class Training Perf.')"
      ],
      "execution_count": null,
      "outputs": [
        {
          "output_type": "stream",
          "name": "stdout",
          "text": [
            "Evaluation Model: XGBoost Class Training Perf.\n",
            "[[5533  743]\n",
            " [ 849 5427]]\n",
            "Accuracy : 87.32 %\n",
            "Precision: 87.96 %\n",
            "Recall   : 86.47 %\n",
            "F1-Score : 87.21 %\n"
          ]
        }
      ]
    },
    {
      "cell_type": "code",
      "metadata": {
        "id": "5B49mOsGmWde",
        "colab": {
          "base_uri": "https://localhost:8080/"
        },
        "outputId": "9339c816-e47f-4d93-9c1b-6fc1c9e83fc1"
      },
      "source": [
        "# Melihat performa data testing\n",
        "class_eval(y_test, y_test_pred, 'XGBoost Class Testing Perf.')"
      ],
      "execution_count": null,
      "outputs": [
        {
          "output_type": "stream",
          "name": "stdout",
          "text": [
            "Evaluation Model: XGBoost Class Testing Perf.\n",
            "[[1388  205]\n",
            " [ 118  289]]\n",
            "Accuracy : 83.85 %\n",
            "Precision: 58.5 %\n",
            "Recall   : 71.01 %\n",
            "F1-Score : 64.15 %\n"
          ]
        }
      ]
    },
    {
      "cell_type": "markdown",
      "metadata": {
        "id": "MtlU5jxf__Tp"
      },
      "source": [
        "# Hyperparameter Tuning"
      ]
    },
    {
      "cell_type": "markdown",
      "metadata": {
        "id": "fin-9_XRAfB8"
      },
      "source": [
        "## Random Forest"
      ]
    },
    {
      "cell_type": "code",
      "metadata": {
        "colab": {
          "base_uri": "https://localhost:8080/"
        },
        "id": "hCQ8MdG8Al82",
        "outputId": "eed0eabe-aec5-4f98-e3c1-80977c1caf9a"
      },
      "source": [
        "# Mencoba hyperparameter tuning\n",
        "param_random = {'max_depth': [4,5,6,7,8],\n",
        "                'n_estimators': [600,700,800,900,1000],\n",
        "                'min_samples_leaf': [1,2,3], \n",
        "                'min_samples_split': [2,3,4]\n",
        "                }\n",
        "random_search_ranfor = RandomizedSearchCV(estimator=ranfor, param_distributions=param_random,\n",
        "                                          cv=10, random_state=62, n_jobs=-1, scoring='f1')\n",
        "random_search_ranfor.fit(x_train, y_train)\n",
        "random_search_ranfor.best_params_"
      ],
      "execution_count": null,
      "outputs": [
        {
          "output_type": "execute_result",
          "data": {
            "text/plain": [
              "{'max_depth': 8,\n",
              " 'min_samples_leaf': 1,\n",
              " 'min_samples_split': 2,\n",
              " 'n_estimators': 900}"
            ]
          },
          "metadata": {},
          "execution_count": 317
        }
      ]
    },
    {
      "cell_type": "code",
      "metadata": {
        "colab": {
          "base_uri": "https://localhost:8080/"
        },
        "id": "pFk9pxY7Ao0b",
        "outputId": "bdc5399b-4dad-418c-e303-f6a006b74a38"
      },
      "source": [
        "# Melihat performa setelah hyperparameter tuning\n",
        "rs_ranfor = random_search_ranfor.best_estimator_\n",
        "y_test_pred = rs_ranfor.predict(x_test)\n",
        "class_eval(y_test, y_test_pred, 'Ranfor Hyperparameter Tuning Perf.')"
      ],
      "execution_count": null,
      "outputs": [
        {
          "output_type": "stream",
          "name": "stdout",
          "text": [
            "Evaluation Model: Ranfor Hyperparameter Tuning Perf.\n",
            "[[1352  241]\n",
            " [ 106  301]]\n",
            "Accuracy : 82.65 %\n",
            "Precision: 55.54 %\n",
            "Recall   : 73.96 %\n",
            "F1-Score : 63.44 %\n"
          ]
        }
      ]
    },
    {
      "cell_type": "markdown",
      "metadata": {
        "id": "xcSb1ztcDwCC"
      },
      "source": [
        "## XGBoost"
      ]
    },
    {
      "cell_type": "code",
      "metadata": {
        "colab": {
          "base_uri": "https://localhost:8080/"
        },
        "id": "Oi1WJWNcDyOF",
        "outputId": "d8eb0b10-aea5-4c00-d192-7cb77e2b119c"
      },
      "source": [
        "# Mencoba hyperparameter tuning\n",
        "param_random = {'learning_rate': [0.001, 0.01, 0.1],\n",
        "                'max_depth': [2,3,4],\n",
        "                'n_estimators': [100, 200, 300, 400, 500]}\n",
        "random_search_xg = RandomizedSearchCV(estimator=xg, param_distributions=param_random,\n",
        "                                      cv=10, random_state=62, n_jobs=-1, scoring='f1')\n",
        "random_search_xg.fit(x_train, y_train)\n",
        "random_search_xg.best_params_"
      ],
      "execution_count": null,
      "outputs": [
        {
          "output_type": "execute_result",
          "data": {
            "text/plain": [
              "{'learning_rate': 0.1, 'max_depth': 4, 'n_estimators': 400}"
            ]
          },
          "metadata": {},
          "execution_count": 320
        }
      ]
    },
    {
      "cell_type": "code",
      "metadata": {
        "colab": {
          "base_uri": "https://localhost:8080/"
        },
        "id": "WHZGxZexFTed",
        "outputId": "d6335e45-0919-44d7-ecf4-139bb508a1a4"
      },
      "source": [
        "# Melihat performa setelah hyperparameter tuning\n",
        "rs_xg = random_search_xg.best_estimator_\n",
        "y_test_pred = rs_xg.predict(x_test)\n",
        "class_eval(y_test, y_test_pred, 'XGBoost Hyperparameter Tuning Perf.')"
      ],
      "execution_count": null,
      "outputs": [
        {
          "output_type": "stream",
          "name": "stdout",
          "text": [
            "Evaluation Model: XGBoost Hyperparameter Tuning Perf.\n",
            "[[1487  106]\n",
            " [ 160  247]]\n",
            "Accuracy : 86.7 %\n",
            "Precision: 69.97 %\n",
            "Recall   : 60.69 %\n",
            "F1-Score : 65.0 %\n"
          ]
        }
      ]
    }
  ]
}